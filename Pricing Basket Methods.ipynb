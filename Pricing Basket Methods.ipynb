{
 "cells": [
  {
   "cell_type": "code",
   "execution_count": 1,
   "metadata": {},
   "outputs": [],
   "source": [
    "import numpy as np\n",
    "import pandas as pd\n",
    "import matplotlib.pyplot as plt\n",
    "import seaborn as sns\n",
    "from scipy.stats import norm\n",
    "from scipy.optimize import fsolve\n",
    "%matplotlib inline\n"
   ]
  },
  {
   "cell_type": "code",
   "execution_count": 2,
   "metadata": {},
   "outputs": [],
   "source": [
    "#No. of. Assets\n",
    "n=5\n",
    "Notional = 100\n",
    "\n",
    "#Stock Prices\n",
    "s_array = np.array([1 for i in range(0,n)])\n",
    "\n",
    "#Dividend\n",
    "delta = np.array([0 for i in range(0, n)])\n",
    "\n",
    "#Volatility\n",
    "vol_array = np.array([0.518, 0.648, 0.623, 0.570, 0.530])\n",
    "\n",
    "# Risk-free Interest Rate\n",
    "r=0.05\n",
    "\n",
    "# Time to maturity for the basket option\n",
    "T=1  \n",
    "\n",
    "# Weights of each stock in the basket option\n",
    "w_array = np.array([0.381, 0.065, 0.057, 0.270, 0.227])\n",
    "\n",
    "# Strike price of the basket\n",
    "K=1\n",
    "\n",
    "def stockSim(S0, r, delta, sigma, T, x):\n",
    "    return S0*np.exp((r-delta-(sigma**2)/2)*T + sigma*np.sqrt(T)*norm.ppf(x))\n",
    "\n"
   ]
  },
  {
   "cell_type": "code",
   "execution_count": 7,
   "metadata": {},
   "outputs": [],
   "source": [
    "PV_dict = {'Runs:50000':[] , 'Runs:500000':[] , 'Runs:5000000':[]}\n",
    "\n",
    "for sim in [50000, 500000, 5000000]:\n",
    "    PV_list = []\n",
    "    for run in range(0, 30):\n",
    "        rand_unif_sim = np.random.rand(sim).reshape(-1,)\n",
    "        sim_underlying = 0\n",
    "        for i in range(0,n):\n",
    "            sim_underlying = sim_underlying + w_array[i] * stockSim(s_array[i], r, delta[i], vol_array[i], T, rand_unif_sim) \n",
    "\n",
    "        payoff = np.maximum(K-sim_underlying, 0)\n",
    "        PV = np.mean(payoff) * Notional * np.exp(-r*T)\n",
    "        PV_list.append(PV)\n",
    "        \n",
    "    PV_dict['Runs:'+str(sim)] = PV_list\n",
    "\n",
    "df = pd.DataFrame(PV_dict)"
   ]
  },
  {
   "cell_type": "code",
   "execution_count": 8,
   "metadata": {},
   "outputs": [],
   "source": [
    "df.to_csv('df_pv_comonotonic_mc.csv')"
   ]
  },
  {
   "cell_type": "code",
   "execution_count": 17,
   "metadata": {},
   "outputs": [
    {
     "name": "stdout",
     "output_type": "stream",
     "text": [
      "Closed Form Co-Monotonic Multi-European Price:  18.74594555872481\n"
     ]
    },
    {
     "data": {
      "image/png": "[encoded data removed]",
      "text/plain": [
       "<Figure size 432x288 with 1 Axes>"
      ]
     },
     "metadata": {
      "needs_background": "light"
     },
     "output_type": "display_data"
    }
   ],
   "source": [
    "# Closed-form Solution\n",
    "\n",
    "def fwd_PnL_func(s_array, r, delta, vol_array, w_array, T, n, x):\n",
    "    sim_underlying = 0\n",
    "    for i in range(0,n):\n",
    "        sim_underlying = sim_underlying + w_array[i] * stockSim(s_array[i], r, delta[i], vol_array[i], T, x) \n",
    "    fwd_PnL = K-sim_underlying\n",
    "    return fwd_PnL\n",
    "\n",
    "def d1(S0, r, delta, t0, t, k, sigma):\n",
    "    return 1/(sigma*np.sqrt(t-t0)) * (np.log(S0/k) + (r-delta+(sigma**2)/2)*(t-t0))\n",
    "\n",
    "def d2(S0, r, delta, t0, t, k, sigma):\n",
    "    return 1/(sigma*np.sqrt(t-t0)) * (np.log(S0/k) + (r-delta-(sigma**2)/2)*(t-t0))\n",
    "\n",
    "def BSMcall(S0, r, delta, t0, t, k, sigma):\n",
    "    return S0*np.exp(-delta*(t-t0))*norm.cdf(d1(S0, r, delta, t0, t, k, sigma)) - k*np.exp(-r*(t-t0))*norm.cdf(d2(S0, r, delta, t0, t, k, sigma))\n",
    "\n",
    "def BSMPut(S0, r, delta, t0, t, k, sigma):\n",
    "    return k*np.exp(-r*(t-t0))*norm.cdf(-d2(S0, r, delta, t0, t, k, sigma)) - S0*np.exp(-delta*(t-t0))*norm.cdf(-d1(S0, r, delta, t0, t, k, sigma))\n",
    "\n",
    "def fwdValue(S0, r, delta, t0, t, k):\n",
    "    return S0*np.exp(-delta*(t-t0)) - k*np.exp(-r*(t-t0))\n",
    "\n",
    "    \n",
    "# Find uniform rv x where ppf(x) makes stock price such that (K-S(T) == 0):\n",
    "f = lambda x: fwd_PnL_func(s_array, r, delta, vol_array, w_array, T, n, x)  \n",
    "x=np.linspace(0,1,101)\n",
    "plt.plot(x,f(x))\n",
    "\n",
    "#Solution Guess from plot\n",
    "sol_guess = 0.7\n",
    "solved_x=fsolve(f,sol_guess)[0]    \n",
    "          \n",
    "#Closed-form Price\n",
    "strikes_list = [stockSim(s_array[i], r, delta[i], vol_array[i], T, solved_x) for i in range(0,n)]\n",
    "option_value_list = np.array([BSMPut(s_array[i], r, delta[i], 0, T, strikes_list[i], vol_array[i]) for i in range(0,n)])\n",
    "PV = np.dot(w_array, option_value_list) * Notional\n",
    "print(\"Closed Form Co-Monotonic Multi-European Price: \", PV)\n"
   ]
  },
  {
   "cell_type": "code",
   "execution_count": null,
   "metadata": {},
   "outputs": [],
   "source": []
  }
 ],
 "metadata": {
  "kernelspec": {
   "display_name": "Python 3",
   "language": "python",
   "name": "python3"
  },
  "language_info": {
   "codemirror_mode": {
    "name": "ipython",
    "version": 3
   },
   "file_extension": ".py",
   "mimetype": "text/x-python",
   "name": "python",
   "nbconvert_exporter": "python",
   "pygments_lexer": "ipython3",
   "version": "3.6.7"
  }
 },
 "nbformat": 4,
 "nbformat_minor": 2
}
