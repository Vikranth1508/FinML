{
 "cells": [
  {
   "cell_type": "code",
   "execution_count": 4,
   "metadata": {},
   "outputs": [
    {
     "data": {
      "text/html": [
       "        <script type=\"text/javascript\">\n",
       "        window.PlotlyConfig = {MathJaxConfig: 'local'};\n",
       "        if (window.MathJax) {MathJax.Hub.Config({SVG: {font: \"STIX-Web\"}});}\n",
       "        if (typeof require !== 'undefined') {\n",
       "        require.undef(\"plotly\");\n",
       "        requirejs.config({\n",
       "            paths: {\n",
       "                'plotly': ['https://cdn.plot.ly/plotly-latest.min']\n",
       "            }\n",
       "        });\n",
       "        require(['plotly'], function(Plotly) {\n",
       "            window._Plotly = Plotly;\n",
       "        });\n",
       "        }\n",
       "        </script>\n",
       "        "
      ]
     },
     "metadata": {},
     "output_type": "display_data"
    }
   ],
   "source": [
    "import numpy as np\n",
    "import pandas as pd\n",
    "import math\n",
    "import scipy as sc\n",
    "from scipy.stats import norm\n",
    "from scipy.special import roots_hermite\n",
    "# import keras\n",
    "# from keras.models import Sequential\n",
    "# from keras.layers import Dense\n",
    "# import keras.optimizers as opt\n",
    "# from keras.constraints import Constraint\n",
    "import sobol_seq\n",
    "import time\n",
    "# import tensorflow as tf\n",
    "# from keras import backend as keras_backend\n",
    "import sys\n",
    "import matplotlib.pyplot as plt\n",
    "import seaborn as sns\n",
    "from plotly.subplots import make_subplots\n",
    "import plotly.graph_objects as go\n",
    "import plotly\n",
    "plotly.offline.init_notebook_mode(connected=True)\n",
    "from itertools import chain, product \n",
    "\n",
    "\n",
    "num_cores = 32\n",
    "#No.of.derivative contracts used for static hedging\n",
    "no_of_options=15\n",
    "\n",
    "#No of paths\n",
    "no_of_paths = 50000\n",
    "no_of_paths_test = 50000\n",
    "\n",
    "# Total number of runs neural network static hedge created\n",
    "no_of_runs = 4\n",
    "\n",
    "# num_CPU = 1\n",
    "# num_GPU = 0\n",
    "\n",
    "# config = tf.ConfigProto(intra_op_parallelism_threads=num_cores, inter_op_parallelism_threads=num_cores,\n",
    "#                         allow_soft_placement=True, device_count={'CPU': num_CPU, 'GPU': num_GPU})\n",
    "# session = tf.Session(config=config)\n",
    "# keras_backend.set_session(session)\n",
    "\n",
    "##################################################################################\n",
    "# Stability Analysis of NN Static Hedging and comparison with Carr's Static Hedge#\n",
    "##################################################################################\n",
    "\n",
    "#Current Stock Price\n",
    "S0=100\n",
    "\n",
    "#Risk Free Interest Rate\n",
    "r=0.06 \n",
    "\n",
    "#Continuos Divident rate\n",
    "delta=0.02\n",
    "\n",
    "#Volatility\n",
    "sigma=0.27 \n",
    "\n",
    "# Time to maturity for the shorter term options = 0.25 yrs \n",
    "t=0.25  \n",
    "\n",
    "# Time to maturity for the target options = 1 yr\n",
    "T=1\n",
    "\n",
    "# Size of each step = 0.01\n",
    "dt=0.01\n",
    "\n",
    "# The call was struck at the money on 11/08/2020\n",
    "K=100 \n",
    "\n",
    "\n",
    "# No. of sim time points\n",
    "sim_grid_points = int(t/dt)\n",
    "\n",
    "#No. of. time points\n",
    "sim_points = [dt * i for i in range(1, sim_grid_points + 1)]\n",
    "\n"
   ]
  },
  {
   "cell_type": "code",
   "execution_count": 5,
   "metadata": {},
   "outputs": [],
   "source": [
    "#Loading Datasets\n",
    "\n",
    "#Stock Simulation - Testing\n",
    "df_sim_stocks_test = pd.read_csv('Stability Analysis - Outputs/Dataframes Optimized/Stock Simulations/df_sim_stocks_test_sim' + str(no_of_paths_test) + '.csv', index_col=0)\n",
    "\n",
    "#BS Price - for Testing Sample\n",
    "df_bs_price_test = pd.read_csv('Stability Analysis - Outputs/Dataframes Optimized/df_bs_price_test_sim' + str(no_of_paths_test) + '.csv', index_col=0)\n",
    "\n",
    "#Carr Static Hedge across simulations\n",
    "df_carr_pv_rmse = pd.read_csv('Stability Analysis - Outputs/Dataframes Optimized/df_carr_pv_rmse_sim' + str(no_of_paths) + '.csv', index_col=0)\n",
    "df_carr_hedge_error = pd.read_csv('Stability Analysis - Outputs/Dataframes Optimized/df_carr_hedge_error_sim' + str(no_of_paths) + '.csv', index_col=0)\n",
    "\n",
    "#Loading Neural Network Static Hedge\n",
    "file_ident = \"constr_normal\"\n",
    "# file_ident = \"unconstr\"\n",
    "\n",
    "df_nn_hedge_pv_instr_nos = pd.read_csv('Stability Analysis - Outputs/Dataframes Optimized/df_nn_hedge_pv_instr_nos_' + file_ident + '_sim' + str(no_of_paths) + '_opt' + str(no_of_options) + '_runs' + str(no_of_runs) + '.csv', index_col=0)\n",
    "df_nn_hedge_params = pd.read_csv('Stability Analysis - Outputs/Dataframes Optimized/df_nn_hedge_params_' + file_ident + '_sim' + str(no_of_paths) + '_opt' + str(no_of_options) + '_runs' + str(no_of_runs) + '.csv', index_col=0)\n",
    "df_nn_hedge_error = pd.read_csv('Stability Analysis - Outputs/Dataframes Optimized/df_nn_hedge_error_' + file_ident + '_sim' + str(no_of_paths) + '_opt' + str(no_of_options) + '_runs' + str(no_of_runs) + '.csv', index_col=0)\n",
    "\n"
   ]
  },
  {
   "cell_type": "code",
   "execution_count": 6,
   "metadata": {},
   "outputs": [],
   "source": [
    "# Function for Four Plots \n",
    "\n",
    "def generate_plot_inputs(df_sim_stocks_test, df_carr_pv_rmse, df_carr_hedge_error, \n",
    "                         df_nn_hedge_pv_instr_nos, df_nn_hedge_error, \n",
    "                         no_of_options, no_of_paths_test, no_of_plots=4):\n",
    "    \n",
    "    #Error Vector and MSE\n",
    "    stock_vector_list = [np.array(df_sim_stocks_test.iloc[-1, :]).reshape(-1) for i in range(0, no_of_plots)]\n",
    "    carr_static_hedge_error = [np.absolute(np.array(df_carr_hedge_error.loc[:,'Options Count:' + str(no_of_options)]).reshape(-1))  for i in range(0, no_of_plots)]\n",
    "    nn_static_hedge_error = [np.absolute(np.array(df_nn_hedge_error.iloc[:,i]).reshape(-1)) for i in range(0, no_of_plots)]\n",
    "    carr_static_hedge_rmse = [np.array(df_carr_pv_rmse[df_carr_pv_rmse['Options Count'] == no_of_options]['Carr RMSE']) for i in range(0, no_of_plots)]\n",
    "    nn_static_hedge_rmse = [np.sqrt(np.mean(np.square(error_array))) for error_array in nn_static_hedge_error]\n",
    "    x_list = stock_vector_list\n",
    "    y_list = [[carr_static_hedge_error[i], nn_static_hedge_error[i]] for i in range(0, no_of_plots)]\n",
    "    \n",
    "    #Titles\n",
    "    figure_title_str = \"Static Hedge Error across Stock Levels Analysis\"\n",
    "    \n",
    "    #Sub title names\n",
    "    subplot_title_str_list = [\"Independent Neural Network Run: \" + str(i) for i in range(1, no_of_plots+1)]\n",
    "    \n",
    "    #Legends\n",
    "    legends_str = [[\"Carr Static Hedge\", \"RLNN Static Hedge\"] for i in range(1, no_of_plots+1)]\n",
    "    \n",
    "    \n",
    "    #Axes Titles \n",
    "    xaxis_title_str = [\"Index/Stock price\" for i in range(0, no_of_plots)]\n",
    "    yaxis_title_str = [\"Hedging Error\" for i in range(0, no_of_plots)]\n",
    "    \n",
    "    #Correct x-axis and y axis title to avoid them in between plots - if all plots on same axis:\n",
    "    for i in range(0, no_of_plots):\n",
    "        if (i==0):\n",
    "            xaxis_title_str[i] = \"\"\n",
    "        elif (i==1):\n",
    "            xaxis_title_str[i] = \"\"\n",
    "            yaxis_title_str[i] = \"\"\n",
    "        elif(i==3):\n",
    "            yaxis_title_str[i] = \"\"\n",
    "        else:\n",
    "            None\n",
    "            \n",
    "    #Limits\n",
    "    x_limits = [[np.amin(stock_vector_list[i]), np.amax(stock_vector_list[i])] for i in range(0, no_of_plots)]\n",
    "    carr_limits = [[np.amin(carr_static_hedge_error[i]), np.amax(carr_static_hedge_error[i])] for i in range(0, no_of_plots)]\n",
    "    nn_limits = [[np.amin(nn_static_hedge_error[i]), np.amax(nn_static_hedge_error[i])] for i in range(0, no_of_plots)]\n",
    "    y_limits = [[np.amin([carr_limits[i][0], nn_limits[i][0]]) - 1, np.amax([carr_limits[i][1], nn_limits[i][1]]) + 1]  for i in range(0, no_of_plots)]\n",
    "    \n",
    "    #Other annotations\n",
    "    other_annotations = [\"Carr RMSE: \" + str(round(carr_static_hedge_rmse[i][0], 2)) + \"<br>\" \"NN RMSE: \" + str(round(nn_static_hedge_rmse[i], 2)) for i in range(0, no_of_plots)]\n",
    "    \n",
    "    return figure_title_str, subplot_title_str_list, xaxis_title_str, yaxis_title_str, legends_str, other_annotations, x_limits, y_limits, x_list, y_list \n",
    "    \n",
    "\n",
    "#Inputs:\n",
    "\n",
    "#     1. no_of_plots: int --> No. of. plots in the figure\n",
    "#     2. no_of_rows: int --> No. of. rows in the figure\n",
    "#     3. no_of_cols: int --> No. of. columns in the figure\n",
    "#     4. no_of_yvars: int --> No. of. functions in each sub plots\n",
    "#     5. figure_title_str: str --> Figure Title\n",
    "#     6. subplot_title_str_list: list of strings with length no_of_plots --> Each string for each subplot's title\n",
    "#     7. xaxis_title_str: list:  x-axis title string for each plot\n",
    "#.    8. yaxis_title_str: list:  y-axis title string for each plot\n",
    "#.    9. legends_str: list --> [[y1_legend, y2_legend,... ], ..] --> list of list of y_axes legends for each y-axis variable and each plot\n",
    "#     7. x_list: list --> List of x axis numpy arrays for each sub-plot\n",
    "#     8. y_list: list ---> contains no_of_plots times list. Each list has numpy arrays each y-axis plot i.e. multiple functions in one plot\n",
    "    \n",
    "def generate_4plots(no_of_plots, no_of_rows, no_of_cols, no_of_yvars, \n",
    "                    figure_title_str, subplot_title_str_list, xaxis_title_str, yaxis_title_str, legends_str,\n",
    "                    other_annotations, x_limits, y_limits, \n",
    "                    x_list, y_list):\n",
    "\n",
    "    fig = make_subplots(rows=no_of_rows, cols=no_of_cols, subplot_titles=subplot_title_str_list)\n",
    "    fig.update_layout(height=700, width=1000,\n",
    "                      title=dict(text = figure_title_str, y=0.95, x=0.42, xanchor='center', yanchor='top'), font=dict(color=\"black\", size=18), \n",
    "                      showlegend=True)\n",
    "    \n",
    "    figure_positions = list(product(range(1, no_of_rows + 1), range(1, no_of_cols + 1)))\n",
    "    colours_list = ['rgb(139, 0, 0)', 'rgb(0, 0, 139)', 'rgb(0, 139, 0)']\n",
    "    legend_show_list = [True] + [False for i in range(0, no_of_plots-1)]\n",
    "    \n",
    "    for i in range(0, no_of_plots):\n",
    "        for j in range(0, no_of_yvars):\n",
    "            fig.add_trace(go.Scatter(x=list(x_list[i]), y=list(y_list[i][j]), \n",
    "                          mode = 'markers', marker=dict(size=4, color = colours_list[j]), name=legends_str[i][j], showlegend=legend_show_list[i]),\n",
    "                          row=figure_positions[i][0], col=figure_positions[i][1])\n",
    "    \n",
    "    for i in range(0, no_of_plots):\n",
    "        fig.update_xaxes(title_text=xaxis_title_str[i], showgrid=True, range=x_limits[i], row=figure_positions[i][0], col=figure_positions[i][1])\n",
    "        fig.update_yaxes(title_text=yaxis_title_str[i], showgrid=True, range=y_limits[i], row=figure_positions[i][0], col=figure_positions[i][1])\n",
    "\n",
    "    annotations = []\n",
    "    annotations_extend=[dict(x=0.01, y=0.999, xref=\"paper\", yref=\"paper\", \n",
    "                  text=other_annotations[0], \n",
    "                  showarrow=False, xanchor=\"left\", yanchor=\"top\",  font=dict(color=\"black\", size=8)),\n",
    "             dict(x=0.56, y=0.999, xref=\"paper\", yref=\"paper\", \n",
    "                  text=other_annotations[1], \n",
    "                  showarrow=False, xanchor=\"left\", yanchor=\"top\", font=dict(color=\"black\", size=8)), \n",
    "             dict(x=0.01, y=0.37, xref=\"paper\", yref=\"paper\", \n",
    "                  text=other_annotations[2], \n",
    "                  showarrow=False, xanchor=\"left\", yanchor=\"top\", font=dict(color=\"black\", size=8)),\n",
    "             dict(x=0.56, y=0.37, xref=\"paper\", yref=\"paper\", \n",
    "                  text=other_annotations[3], \n",
    "                  showarrow=False, xanchor=\"left\", yanchor=\"top\", font=dict(color=\"black\", size=8)), \n",
    "                    ]\n",
    "    annotations = [annotation for annotation in fig[\"layout\"][\"annotations\"]]\n",
    "    annotations = annotations + annotations_extend\n",
    "    fig[\"layout\"][\"annotations\"] += tuple(annotations)\n",
    "    \n",
    "    return fig\n",
    "    \n",
    "figure_title_str, subplot_title_str_list, xaxis_title_str, yaxis_title_str, legends_str, other_annotations, x_limits, y_limits, x_list, y_list = generate_plot_inputs(df_sim_stocks_test, df_carr_pv_rmse, df_carr_hedge_error, df_nn_hedge_pv_instr_nos, df_nn_hedge_error, no_of_options, no_of_paths_test, no_of_plots=4) \n",
    "final_plot = generate_4plots(no_of_plots=4, no_of_rows=2, no_of_cols=2, no_of_yvars=2, \n",
    "                             figure_title_str=figure_title_str, subplot_title_str_list=subplot_title_str_list, xaxis_title_str=xaxis_title_str, yaxis_title_str=yaxis_title_str, legends_str=legends_str,\n",
    "                             other_annotations=other_annotations, x_limits=x_limits, y_limits=y_limits, \n",
    "                             x_list=x_list, y_list=y_list) \n",
    "# final_plot.show()\n",
    "\n",
    "plot_name = 'Final Outputs - Static Hedge Comments/Stability of Neural Network/Static Hedge Comparisons/fig_nn_hedge_error_' + file_ident + '_sim' + str(no_of_paths) + '_opt' + str(no_of_options) + '_runs' + str(no_of_runs) + '.png'\n",
    "final_plot.write_image(plot_name)\n"
   ]
  },
  {
   "cell_type": "code",
   "execution_count": 5,
   "metadata": {},
   "outputs": [
    {
     "data": {
      "application/vnd.plotly.v1+json": {
       "config": {
        "plotlyServerURL": "https://plot.ly"
       },
       "data": [
        {
         "name": "Strike 1",
         "opacity": 0.6,
         "type": "histogram",
         "x": [
          68.939,
          68.33736999999999,
          68.54326,
          68.3053,
          68.82652,
          68.44337,
          68.46207,
          68.08838,
          68.6147,
          68.62144,
          68.37996,
          68.415054,
          68.57941,
          67.863014,
          68.412384,
          68.44202,
          68.36371,
          68.4953,
          68.6328,
          69.068535,
          68.80802,
          68.407555,
          68.3308,
          68.42775,
          68.44615,
          68.55856,
          68.38008,
          68.42724,
          68.57579,
          66.40215,
          69.366104,
          68.6168,
          68.16067,
          67.53413,
          69.22624,
          67.87827,
          68.43122,
          69.19107,
          68.60413,
          68.77077,
          66.25828,
          68.58836,
          68.16026,
          68.7127,
          68.58803,
          68.44457,
          68.46373,
          68.60784,
          68.80819,
          68.72822,
          69.11568,
          68.37399,
          68.35133,
          68.54557,
          68.48961,
          68.48354,
          68.635635,
          68.71868,
          68.41134,
          68.5868,
          68.63958000000001,
          68.56676,
          68.58337399999999,
          68.43434,
          68.65982,
          68.21915,
          68.49006,
          68.968216,
          68.43291500000001,
          68.6619,
          68.45654,
          68.55337,
          68.50501,
          68.66127,
          69.3585,
          68.40858,
          68.50804000000001,
          68.51585,
          67.36819,
          68.5245,
          68.443474,
          68.468956,
          68.02589,
          68.028336,
          68.5743,
          68.875015,
          68.443535,
          68.50188,
          69.48368,
          66.02586,
          68.45246,
          68.14627,
          68.047676,
          68.510284,
          68.41672,
          68.660965,
          68.78851,
          69.30156,
          68.88292,
          68.553246
         ]
        },
        {
         "name": "Strike 2",
         "opacity": 0.6,
         "type": "histogram",
         "x": [
          85.08556999999999,
          84.28603000000001,
          84.683876,
          83.94068,
          84.97539,
          84.299706,
          84.36281,
          83.16487,
          84.71600000000001,
          84.75299999999999,
          84.07046,
          84.19343,
          84.32178499999999,
          83.64106,
          84.335075,
          84.301704,
          84.08178000000001,
          84.60654,
          84.43030999999999,
          85.46713000000001,
          84.95943,
          84.137474,
          84.256035,
          84.3064,
          84.381424,
          84.6946,
          84.10526,
          84.39837,
          84.36463,
          80.49712,
          85.848236,
          84.75511,
          83.997955,
          82.91391999999999,
          85.65802,
          83.63695,
          84.470474,
          85.56886,
          84.534325,
          84.9089,
          79.910545,
          84.242455,
          83.754196,
          84.59268,
          84.72336999999999,
          84.37688399999999,
          84.483315,
          84.74139,
          84.96013,
          84.69775,
          85.6748,
          84.084335,
          84.222084,
          84.69545,
          84.59136,
          84.60076,
          84.49648,
          84.85552,
          84.332825,
          84.708496,
          84.592125,
          84.71493000000001,
          84.72031,
          84.38353000000001,
          84.79431,
          83.88337,
          84.13198,
          85.12063,
          84.05611,
          84.5043,
          84.186325,
          84.6995,
          84.35015,
          84.81005,
          85.95879000000001,
          84.3101,
          84.50515,
          84.620605,
          82.583885,
          84.63163,
          83.99753,
          84.36142,
          83.78998,
          83.82725,
          84.71368000000001,
          85.021385,
          84.35191999999999,
          84.49467,
          85.9552,
          79.799576,
          84.39135999999999,
          83.70169,
          83.82146999999999,
          84.62463000000001,
          84.26796999999999,
          84.77507,
          84.94263000000001,
          85.78259,
          85.02821,
          84.49700000000001
         ]
        },
        {
         "name": "Strike 3",
         "opacity": 0.6,
         "type": "histogram",
         "x": [
          95.65573,
          94.87143,
          95.44037,
          94.350235,
          95.60096,
          94.77020999999999,
          94.87745,
          93.41604,
          95.444115,
          95.495026,
          94.42877,
          94.603714,
          94.63056999999999,
          94.2589,
          94.88031,
          94.770065,
          94.48544,
          95.40171,
          94.739914,
          96.00352,
          95.58449,
          94.500374,
          94.839874,
          94.80001999999999,
          94.96708000000001,
          95.45913,
          94.47728000000001,
          95.05254000000001,
          94.674355,
          91.41015,
          96.19296999999999,
          95.49653,
          94.60011999999999,
          93.61975,
          96.09739,
          94.23655,
          95.18901,
          95.96611,
          95.040146,
          95.53741,
          90.93643,
          94.44075,
          94.21611,
          94.94981,
          95.49665,
          94.9706,
          95.13458,
          95.49557,
          95.585976,
          95.141914,
          96.288795,
          94.46199,
          94.73846400000001,
          95.4666,
          95.40585,
          95.41627,
          94.92834,
          95.54245999999999,
          94.87555,
          95.453766,
          95.082245,
          95.47499,
          95.47569,
          94.98205,
          95.49070999999999,
          94.35545,
          94.380066,
          95.67205,
          94.34466,
          94.827286,
          94.518524,
          95.47702,
          94.783585,
          95.52645,
          96.57223499999999,
          94.84088,
          95.12654,
          95.43236,
          93.32181,
          95.43135,
          94.22036999999999,
          94.86069,
          94.39008000000001,
          94.470314,
          95.48248000000001,
          95.64513000000001,
          94.91360999999999,
          95.10771,
          96.22632,
          90.91618000000001,
          94.974335,
          94.14268,
          94.408485,
          95.4278,
          94.7362,
          95.482475,
          95.58079000000001,
          96.26396,
          95.65509,
          95.02085
         ]
        },
        {
         "name": "Strike 4",
         "opacity": 0.6,
         "type": "histogram",
         "x": [
          106.33008600000001,
          105.66350600000001,
          106.22233999999999,
          105.21972,
          106.31894,
          105.63257,
          105.67188,
          104.5764,
          106.22961399999998,
          106.24638999999999,
          105.24771000000001,
          105.39034,
          105.43431000000001,
          105.19296999999999,
          105.68249499999999,
          105.62272,
          105.30116000000001,
          106.238,
          105.52038999999999,
          106.49512,
          106.30758999999999,
          105.30578999999999,
          105.67653,
          105.66051999999999,
          105.76256599999999,
          106.26006000000001,
          105.26451000000002,
          105.8762,
          105.42623999999999,
          103.48818,
          106.61211999999999,
          106.260475,
          105.45857,
          104.86124,
          106.568924,
          105.18418999999999,
          106.04568,
          106.4708,
          105.770325,
          106.24943999999999,
          103.133224,
          105.21301000000001,
          105.19748,
          105.67513999999998,
          106.26791399999999,
          105.72968999999999,
          105.94991,
          106.25672,
          106.30289499999999,
          105.86590600000001,
          106.78249,
          105.24841,
          105.62195600000001,
          106.235565,
          106.22583999999999,
          106.2504,
          105.68765,
          106.26467,
          105.675674,
          106.249954,
          105.8116,
          106.28426,
          106.24492,
          105.75362,
          106.24281,
          105.21773999999999,
          105.21609,
          106.33743999999999,
          105.19521,
          105.62806,
          105.29097,
          106.24290500000001,
          105.63011000000002,
          106.26926399999999,
          107.00058999999999,
          105.66958999999999,
          105.9443,
          106.227455,
          104.63571,
          106.23947,
          105.14796000000001,
          105.70015,
          105.25693999999999,
          105.34608500000002,
          106.24826999999999,
          106.34733999999999,
          105.69767,
          105.90587,
          106.62286999999999,
          103.111855,
          105.72403999999999,
          105.155075,
          105.228195,
          106.25086999999999,
          105.58903500000001,
          106.25095,
          106.31301,
          106.71918500000001,
          106.34693999999999,
          105.759514
         ]
        },
        {
         "name": "Strike 5",
         "opacity": 0.6,
         "type": "histogram",
         "x": [
          120.5168,
          119.965515,
          120.49753,
          119.65256000000001,
          120.51597,
          119.98047,
          119.95883,
          119.3751,
          120.45245,
          120.45815,
          119.68287,
          119.7528,
          119.8684,
          119.631325,
          119.98317,
          119.98418400000001,
          119.70378000000001,
          120.47478000000001,
          119.927536,
          120.587746,
          120.4909,
          119.71211000000001,
          119.9753,
          119.973076,
          120.12468999999999,
          120.49373999999999,
          119.69216000000002,
          120.30461000000001,
          119.84676999999999,
          118.4167,
          120.62240600000001,
          120.49051999999999,
          119.88486,
          119.50954399999999,
          120.626724,
          119.64738999999999,
          120.39312,
          120.52269,
          120.01393999999999,
          120.420006,
          118.22677,
          119.637726,
          119.667076,
          119.981094,
          120.4702,
          120.00556,
          120.31165,
          120.43224,
          120.50716000000001,
          120.21988999999999,
          120.68195,
          119.6359,
          119.9707,
          120.43923000000001,
          120.452774,
          120.46971,
          119.9949,
          120.4453,
          119.99135,
          120.46896000000001,
          120.064674,
          120.44169,
          120.42538,
          119.99951999999999,
          120.44318,
          119.657005,
          119.683815,
          120.52548999999999,
          119.65568,
          119.96883400000002,
          119.691696,
          120.4745,
          119.96981000000001,
          120.48913600000002,
          120.93826000000001,
          119.98246999999999,
          120.296646,
          120.4476,
          119.41366599999999,
          120.48175,
          119.664276,
          120.01281999999999,
          119.66498999999999,
          119.79878000000001,
          120.44946000000002,
          120.54526499999999,
          120.02101,
          120.29516000000001,
          120.62685400000001,
          118.26092,
          120.00197,
          119.63423,
          119.64609499999999,
          120.491196,
          119.9548,
          120.455345,
          120.51698999999999,
          120.6452,
          120.535446,
          120.01308999999999
         ]
        }
       ],
       "layout": {
        "bargap": 0.05,
        "bargroupgap": 0,
        "barmode": "overlay",
        "template": {
         "data": {
          "bar": [
           {
            "error_x": {
             "color": "#2a3f5f"
            },
            "error_y": {
             "color": "#2a3f5f"
            },
            "marker": {
             "line": {
              "color": "#E5ECF6",
              "width": 0.5
             }
            },
            "type": "bar"
           }
          ],
          "barpolar": [
           {
            "marker": {
             "line": {
              "color": "#E5ECF6",
              "width": 0.5
             }
            },
            "type": "barpolar"
           }
          ],
          "carpet": [
           {
            "aaxis": {
             "endlinecolor": "#2a3f5f",
             "gridcolor": "white",
             "linecolor": "white",
             "minorgridcolor": "white",
             "startlinecolor": "#2a3f5f"
            },
            "baxis": {
             "endlinecolor": "#2a3f5f",
             "gridcolor": "white",
             "linecolor": "white",
             "minorgridcolor": "white",
             "startlinecolor": "#2a3f5f"
            },
            "type": "carpet"
           }
          ],
          "choropleth": [
           {
            "colorbar": {
             "outlinewidth": 0,
             "ticks": ""
            },
            "type": "choropleth"
           }
          ],
          "contour": [
           {
            "colorbar": {
             "outlinewidth": 0,
             "ticks": ""
            },
            "colorscale": [
             [
              0,
              "#0d0887"
             ],
             [
              0.1111111111111111,
              "#46039f"
             ],
             [
              0.2222222222222222,
              "#7201a8"
             ],
             [
              0.3333333333333333,
              "#9c179e"
             ],
             [
              0.4444444444444444,
              "#bd3786"
             ],
             [
              0.5555555555555556,
              "#d8576b"
             ],
             [
              0.6666666666666666,
              "#ed7953"
             ],
             [
              0.7777777777777778,
              "#fb9f3a"
             ],
             [
              0.8888888888888888,
              "#fdca26"
             ],
             [
              1,
              "#f0f921"
             ]
            ],
            "type": "contour"
           }
          ],
          "contourcarpet": [
           {
            "colorbar": {
             "outlinewidth": 0,
             "ticks": ""
            },
            "type": "contourcarpet"
           }
          ],
          "heatmap": [
           {
            "colorbar": {
             "outlinewidth": 0,
             "ticks": ""
            },
            "colorscale": [
             [
              0,
              "#0d0887"
             ],
             [
              0.1111111111111111,
              "#46039f"
             ],
             [
              0.2222222222222222,
              "#7201a8"
             ],
             [
              0.3333333333333333,
              "#9c179e"
             ],
             [
              0.4444444444444444,
              "#bd3786"
             ],
             [
              0.5555555555555556,
              "#d8576b"
             ],
             [
              0.6666666666666666,
              "#ed7953"
             ],
             [
              0.7777777777777778,
              "#fb9f3a"
             ],
             [
              0.8888888888888888,
              "#fdca26"
             ],
             [
              1,
              "#f0f921"
             ]
            ],
            "type": "heatmap"
           }
          ],
          "heatmapgl": [
           {
            "colorbar": {
             "outlinewidth": 0,
             "ticks": ""
            },
            "colorscale": [
             [
              0,
              "#0d0887"
             ],
             [
              0.1111111111111111,
              "#46039f"
             ],
             [
              0.2222222222222222,
              "#7201a8"
             ],
             [
              0.3333333333333333,
              "#9c179e"
             ],
             [
              0.4444444444444444,
              "#bd3786"
             ],
             [
              0.5555555555555556,
              "#d8576b"
             ],
             [
              0.6666666666666666,
              "#ed7953"
             ],
             [
              0.7777777777777778,
              "#fb9f3a"
             ],
             [
              0.8888888888888888,
              "#fdca26"
             ],
             [
              1,
              "#f0f921"
             ]
            ],
            "type": "heatmapgl"
           }
          ],
          "histogram": [
           {
            "marker": {
             "colorbar": {
              "outlinewidth": 0,
              "ticks": ""
             }
            },
            "type": "histogram"
           }
          ],
          "histogram2d": [
           {
            "colorbar": {
             "outlinewidth": 0,
             "ticks": ""
            },
            "colorscale": [
             [
              0,
              "#0d0887"
             ],
             [
              0.1111111111111111,
              "#46039f"
             ],
             [
              0.2222222222222222,
              "#7201a8"
             ],
             [
              0.3333333333333333,
              "#9c179e"
             ],
             [
              0.4444444444444444,
              "#bd3786"
             ],
             [
              0.5555555555555556,
              "#d8576b"
             ],
             [
              0.6666666666666666,
              "#ed7953"
             ],
             [
              0.7777777777777778,
              "#fb9f3a"
             ],
             [
              0.8888888888888888,
              "#fdca26"
             ],
             [
              1,
              "#f0f921"
             ]
            ],
            "type": "histogram2d"
           }
          ],
          "histogram2dcontour": [
           {
            "colorbar": {
             "outlinewidth": 0,
             "ticks": ""
            },
            "colorscale": [
             [
              0,
              "#0d0887"
             ],
             [
              0.1111111111111111,
              "#46039f"
             ],
             [
              0.2222222222222222,
              "#7201a8"
             ],
             [
              0.3333333333333333,
              "#9c179e"
             ],
             [
              0.4444444444444444,
              "#bd3786"
             ],
             [
              0.5555555555555556,
              "#d8576b"
             ],
             [
              0.6666666666666666,
              "#ed7953"
             ],
             [
              0.7777777777777778,
              "#fb9f3a"
             ],
             [
              0.8888888888888888,
              "#fdca26"
             ],
             [
              1,
              "#f0f921"
             ]
            ],
            "type": "histogram2dcontour"
           }
          ],
          "mesh3d": [
           {
            "colorbar": {
             "outlinewidth": 0,
             "ticks": ""
            },
            "type": "mesh3d"
           }
          ],
          "parcoords": [
           {
            "line": {
             "colorbar": {
              "outlinewidth": 0,
              "ticks": ""
             }
            },
            "type": "parcoords"
           }
          ],
          "pie": [
           {
            "automargin": true,
            "type": "pie"
           }
          ],
          "scatter": [
           {
            "marker": {
             "colorbar": {
              "outlinewidth": 0,
              "ticks": ""
             }
            },
            "type": "scatter"
           }
          ],
          "scatter3d": [
           {
            "line": {
             "colorbar": {
              "outlinewidth": 0,
              "ticks": ""
             }
            },
            "marker": {
             "colorbar": {
              "outlinewidth": 0,
              "ticks": ""
             }
            },
            "type": "scatter3d"
           }
          ],
          "scattercarpet": [
           {
            "marker": {
             "colorbar": {
              "outlinewidth": 0,
              "ticks": ""
             }
            },
            "type": "scattercarpet"
           }
          ],
          "scattergeo": [
           {
            "marker": {
             "colorbar": {
              "outlinewidth": 0,
              "ticks": ""
             }
            },
            "type": "scattergeo"
           }
          ],
          "scattergl": [
           {
            "marker": {
             "colorbar": {
              "outlinewidth": 0,
              "ticks": ""
             }
            },
            "type": "scattergl"
           }
          ],
          "scattermapbox": [
           {
            "marker": {
             "colorbar": {
              "outlinewidth": 0,
              "ticks": ""
             }
            },
            "type": "scattermapbox"
           }
          ],
          "scatterpolar": [
           {
            "marker": {
             "colorbar": {
              "outlinewidth": 0,
              "ticks": ""
             }
            },
            "type": "scatterpolar"
           }
          ],
          "scatterpolargl": [
           {
            "marker": {
             "colorbar": {
              "outlinewidth": 0,
              "ticks": ""
             }
            },
            "type": "scatterpolargl"
           }
          ],
          "scatterternary": [
           {
            "marker": {
             "colorbar": {
              "outlinewidth": 0,
              "ticks": ""
             }
            },
            "type": "scatterternary"
           }
          ],
          "surface": [
           {
            "colorbar": {
             "outlinewidth": 0,
             "ticks": ""
            },
            "colorscale": [
             [
              0,
              "#0d0887"
             ],
             [
              0.1111111111111111,
              "#46039f"
             ],
             [
              0.2222222222222222,
              "#7201a8"
             ],
             [
              0.3333333333333333,
              "#9c179e"
             ],
             [
              0.4444444444444444,
              "#bd3786"
             ],
             [
              0.5555555555555556,
              "#d8576b"
             ],
             [
              0.6666666666666666,
              "#ed7953"
             ],
             [
              0.7777777777777778,
              "#fb9f3a"
             ],
             [
              0.8888888888888888,
              "#fdca26"
             ],
             [
              1,
              "#f0f921"
             ]
            ],
            "type": "surface"
           }
          ],
          "table": [
           {
            "cells": {
             "fill": {
              "color": "#EBF0F8"
             },
             "line": {
              "color": "white"
             }
            },
            "header": {
             "fill": {
              "color": "#C8D4E3"
             },
             "line": {
              "color": "white"
             }
            },
            "type": "table"
           }
          ]
         },
         "layout": {
          "annotationdefaults": {
           "arrowcolor": "#2a3f5f",
           "arrowhead": 0,
           "arrowwidth": 1
          },
          "coloraxis": {
           "colorbar": {
            "outlinewidth": 0,
            "ticks": ""
           }
          },
          "colorscale": {
           "diverging": [
            [
             0,
             "#8e0152"
            ],
            [
             0.1,
             "#c51b7d"
            ],
            [
             0.2,
             "#de77ae"
            ],
            [
             0.3,
             "#f1b6da"
            ],
            [
             0.4,
             "#fde0ef"
            ],
            [
             0.5,
             "#f7f7f7"
            ],
            [
             0.6,
             "#e6f5d0"
            ],
            [
             0.7,
             "#b8e186"
            ],
            [
             0.8,
             "#7fbc41"
            ],
            [
             0.9,
             "#4d9221"
            ],
            [
             1,
             "#276419"
            ]
           ],
           "sequential": [
            [
             0,
             "#0d0887"
            ],
            [
             0.1111111111111111,
             "#46039f"
            ],
            [
             0.2222222222222222,
             "#7201a8"
            ],
            [
             0.3333333333333333,
             "#9c179e"
            ],
            [
             0.4444444444444444,
             "#bd3786"
            ],
            [
             0.5555555555555556,
             "#d8576b"
            ],
            [
             0.6666666666666666,
             "#ed7953"
            ],
            [
             0.7777777777777778,
             "#fb9f3a"
            ],
            [
             0.8888888888888888,
             "#fdca26"
            ],
            [
             1,
             "#f0f921"
            ]
           ],
           "sequentialminus": [
            [
             0,
             "#0d0887"
            ],
            [
             0.1111111111111111,
             "#46039f"
            ],
            [
             0.2222222222222222,
             "#7201a8"
            ],
            [
             0.3333333333333333,
             "#9c179e"
            ],
            [
             0.4444444444444444,
             "#bd3786"
            ],
            [
             0.5555555555555556,
             "#d8576b"
            ],
            [
             0.6666666666666666,
             "#ed7953"
            ],
            [
             0.7777777777777778,
             "#fb9f3a"
            ],
            [
             0.8888888888888888,
             "#fdca26"
            ],
            [
             1,
             "#f0f921"
            ]
           ]
          },
          "colorway": [
           "#636efa",
           "#EF553B",
           "#00cc96",
           "#ab63fa",
           "#FFA15A",
           "#19d3f3",
           "#FF6692",
           "#B6E880",
           "#FF97FF",
           "#FECB52"
          ],
          "font": {
           "color": "#2a3f5f"
          },
          "geo": {
           "bgcolor": "white",
           "lakecolor": "white",
           "landcolor": "#E5ECF6",
           "showlakes": true,
           "showland": true,
           "subunitcolor": "white"
          },
          "hoverlabel": {
           "align": "left"
          },
          "hovermode": "closest",
          "mapbox": {
           "style": "light"
          },
          "paper_bgcolor": "white",
          "plot_bgcolor": "#E5ECF6",
          "polar": {
           "angularaxis": {
            "gridcolor": "white",
            "linecolor": "white",
            "ticks": ""
           },
           "bgcolor": "#E5ECF6",
           "radialaxis": {
            "gridcolor": "white",
            "linecolor": "white",
            "ticks": ""
           }
          },
          "scene": {
           "xaxis": {
            "backgroundcolor": "#E5ECF6",
            "gridcolor": "white",
            "gridwidth": 2,
            "linecolor": "white",
            "showbackground": true,
            "ticks": "",
            "zerolinecolor": "white"
           },
           "yaxis": {
            "backgroundcolor": "#E5ECF6",
            "gridcolor": "white",
            "gridwidth": 2,
            "linecolor": "white",
            "showbackground": true,
            "ticks": "",
            "zerolinecolor": "white"
           },
           "zaxis": {
            "backgroundcolor": "#E5ECF6",
            "gridcolor": "white",
            "gridwidth": 2,
            "linecolor": "white",
            "showbackground": true,
            "ticks": "",
            "zerolinecolor": "white"
           }
          },
          "shapedefaults": {
           "line": {
            "color": "#2a3f5f"
           }
          },
          "ternary": {
           "aaxis": {
            "gridcolor": "white",
            "linecolor": "white",
            "ticks": ""
           },
           "baxis": {
            "gridcolor": "white",
            "linecolor": "white",
            "ticks": ""
           },
           "bgcolor": "#E5ECF6",
           "caxis": {
            "gridcolor": "white",
            "linecolor": "white",
            "ticks": ""
           }
          },
          "title": {
           "x": 0.05
          },
          "xaxis": {
           "automargin": true,
           "gridcolor": "white",
           "linecolor": "white",
           "ticks": "",
           "title": {
            "standoff": 15
           },
           "zerolinecolor": "white",
           "zerolinewidth": 2
          },
          "yaxis": {
           "automargin": true,
           "gridcolor": "white",
           "linecolor": "white",
           "ticks": "",
           "title": {
            "standoff": 15
           },
           "zerolinecolor": "white",
           "zerolinewidth": 2
          }
         }
        },
        "title": {
         "text": "Distribution of Call option Strikes (100 runs) of Neural Network - 5 options",
         "x": 0.48,
         "y": 0.89
        },
        "xaxis": {
         "title": {
          "text": "Strike"
         }
        },
        "yaxis": {
         "title": {
          "text": "Count"
         }
        }
       }
      },
      "text/html": [
       "<div>                            <div id=\"830f6b3c-71a4-4291-bede-5eb553de52fc\" class=\"plotly-graph-div\" style=\"height:525px; width:100%;\"></div>            <script type=\"text/javascript\">                require([\"plotly\"], function(Plotly) {                    window.PLOTLYENV=window.PLOTLYENV || {};                                    if (document.getElementById(\"830f6b3c-71a4-4291-bede-5eb553de52fc\")) {                    Plotly.newPlot(                        \"830f6b3c-71a4-4291-bede-5eb553de52fc\",                        [{\"name\": \"Strike 1\", \"opacity\": 0.6, \"type\": \"histogram\", \"x\": [68.939, 68.33736999999999, 68.54326, 68.3053, 68.82652, 68.44337, 68.46207, 68.08838, 68.6147, 68.62144, 68.37996, 68.415054, 68.57941, 67.863014, 68.412384, 68.44202, 68.36371, 68.4953, 68.6328, 69.068535, 68.80802, 68.407555, 68.3308, 68.42775, 68.44615, 68.55856, 68.38008, 68.42724, 68.57579, 66.40215, 69.366104, 68.6168, 68.16067, 67.53413, 69.22624, 67.87827, 68.43122, 69.19107, 68.60413, 68.77077, 66.25828, 68.58836, 68.16026, 68.7127, 68.58803, 68.44457, 68.46373, 68.60784, 68.80819, 68.72822, 69.11568, 68.37399, 68.35133, 68.54557, 68.48961, 68.48354, 68.635635, 68.71868, 68.41134, 68.5868, 68.63958000000001, 68.56676, 68.58337399999999, 68.43434, 68.65982, 68.21915, 68.49006, 68.968216, 68.43291500000001, 68.6619, 68.45654, 68.55337, 68.50501, 68.66127, 69.3585, 68.40858, 68.50804000000001, 68.51585, 67.36819, 68.5245, 68.443474, 68.468956, 68.02589, 68.028336, 68.5743, 68.875015, 68.443535, 68.50188, 69.48368, 66.02586, 68.45246, 68.14627, 68.047676, 68.510284, 68.41672, 68.660965, 68.78851, 69.30156, 68.88292, 68.553246]}, {\"name\": \"Strike 2\", \"opacity\": 0.6, \"type\": \"histogram\", \"x\": [85.08556999999999, 84.28603000000001, 84.683876, 83.94068, 84.97539, 84.299706, 84.36281, 83.16487, 84.71600000000001, 84.75299999999999, 84.07046, 84.19343, 84.32178499999999, 83.64106, 84.335075, 84.301704, 84.08178000000001, 84.60654, 84.43030999999999, 85.46713000000001, 84.95943, 84.137474, 84.256035, 84.3064, 84.381424, 84.6946, 84.10526, 84.39837, 84.36463, 80.49712, 85.848236, 84.75511, 83.997955, 82.91391999999999, 85.65802, 83.63695, 84.470474, 85.56886, 84.534325, 84.9089, 79.910545, 84.242455, 83.754196, 84.59268, 84.72336999999999, 84.37688399999999, 84.483315, 84.74139, 84.96013, 84.69775, 85.6748, 84.084335, 84.222084, 84.69545, 84.59136, 84.60076, 84.49648, 84.85552, 84.332825, 84.708496, 84.592125, 84.71493000000001, 84.72031, 84.38353000000001, 84.79431, 83.88337, 84.13198, 85.12063, 84.05611, 84.5043, 84.186325, 84.6995, 84.35015, 84.81005, 85.95879000000001, 84.3101, 84.50515, 84.620605, 82.583885, 84.63163, 83.99753, 84.36142, 83.78998, 83.82725, 84.71368000000001, 85.021385, 84.35191999999999, 84.49467, 85.9552, 79.799576, 84.39135999999999, 83.70169, 83.82146999999999, 84.62463000000001, 84.26796999999999, 84.77507, 84.94263000000001, 85.78259, 85.02821, 84.49700000000001]}, {\"name\": \"Strike 3\", \"opacity\": 0.6, \"type\": \"histogram\", \"x\": [95.65573, 94.87143, 95.44037, 94.350235, 95.60096, 94.77020999999999, 94.87745, 93.41604, 95.444115, 95.495026, 94.42877, 94.603714, 94.63056999999999, 94.2589, 94.88031, 94.770065, 94.48544, 95.40171, 94.739914, 96.00352, 95.58449, 94.500374, 94.839874, 94.80001999999999, 94.96708000000001, 95.45913, 94.47728000000001, 95.05254000000001, 94.674355, 91.41015, 96.19296999999999, 95.49653, 94.60011999999999, 93.61975, 96.09739, 94.23655, 95.18901, 95.96611, 95.040146, 95.53741, 90.93643, 94.44075, 94.21611, 94.94981, 95.49665, 94.9706, 95.13458, 95.49557, 95.585976, 95.141914, 96.288795, 94.46199, 94.73846400000001, 95.4666, 95.40585, 95.41627, 94.92834, 95.54245999999999, 94.87555, 95.453766, 95.082245, 95.47499, 95.47569, 94.98205, 95.49070999999999, 94.35545, 94.380066, 95.67205, 94.34466, 94.827286, 94.518524, 95.47702, 94.783585, 95.52645, 96.57223499999999, 94.84088, 95.12654, 95.43236, 93.32181, 95.43135, 94.22036999999999, 94.86069, 94.39008000000001, 94.470314, 95.48248000000001, 95.64513000000001, 94.91360999999999, 95.10771, 96.22632, 90.91618000000001, 94.974335, 94.14268, 94.408485, 95.4278, 94.7362, 95.482475, 95.58079000000001, 96.26396, 95.65509, 95.02085]}, {\"name\": \"Strike 4\", \"opacity\": 0.6, \"type\": \"histogram\", \"x\": [106.33008600000001, 105.66350600000001, 106.22233999999999, 105.21972, 106.31894, 105.63257, 105.67188, 104.5764, 106.22961399999998, 106.24638999999999, 105.24771000000001, 105.39034, 105.43431000000001, 105.19296999999999, 105.68249499999999, 105.62272, 105.30116000000001, 106.238, 105.52038999999999, 106.49512, 106.30758999999999, 105.30578999999999, 105.67653, 105.66051999999999, 105.76256599999999, 106.26006000000001, 105.26451000000002, 105.8762, 105.42623999999999, 103.48818, 106.61211999999999, 106.260475, 105.45857, 104.86124, 106.568924, 105.18418999999999, 106.04568, 106.4708, 105.770325, 106.24943999999999, 103.133224, 105.21301000000001, 105.19748, 105.67513999999998, 106.26791399999999, 105.72968999999999, 105.94991, 106.25672, 106.30289499999999, 105.86590600000001, 106.78249, 105.24841, 105.62195600000001, 106.235565, 106.22583999999999, 106.2504, 105.68765, 106.26467, 105.675674, 106.249954, 105.8116, 106.28426, 106.24492, 105.75362, 106.24281, 105.21773999999999, 105.21609, 106.33743999999999, 105.19521, 105.62806, 105.29097, 106.24290500000001, 105.63011000000002, 106.26926399999999, 107.00058999999999, 105.66958999999999, 105.9443, 106.227455, 104.63571, 106.23947, 105.14796000000001, 105.70015, 105.25693999999999, 105.34608500000002, 106.24826999999999, 106.34733999999999, 105.69767, 105.90587, 106.62286999999999, 103.111855, 105.72403999999999, 105.155075, 105.228195, 106.25086999999999, 105.58903500000001, 106.25095, 106.31301, 106.71918500000001, 106.34693999999999, 105.759514]}, {\"name\": \"Strike 5\", \"opacity\": 0.6, \"type\": \"histogram\", \"x\": [120.5168, 119.965515, 120.49753, 119.65256000000001, 120.51597, 119.98047, 119.95883, 119.3751, 120.45245, 120.45815, 119.68287, 119.7528, 119.8684, 119.631325, 119.98317, 119.98418400000001, 119.70378000000001, 120.47478000000001, 119.927536, 120.587746, 120.4909, 119.71211000000001, 119.9753, 119.973076, 120.12468999999999, 120.49373999999999, 119.69216000000002, 120.30461000000001, 119.84676999999999, 118.4167, 120.62240600000001, 120.49051999999999, 119.88486, 119.50954399999999, 120.626724, 119.64738999999999, 120.39312, 120.52269, 120.01393999999999, 120.420006, 118.22677, 119.637726, 119.667076, 119.981094, 120.4702, 120.00556, 120.31165, 120.43224, 120.50716000000001, 120.21988999999999, 120.68195, 119.6359, 119.9707, 120.43923000000001, 120.452774, 120.46971, 119.9949, 120.4453, 119.99135, 120.46896000000001, 120.064674, 120.44169, 120.42538, 119.99951999999999, 120.44318, 119.657005, 119.683815, 120.52548999999999, 119.65568, 119.96883400000002, 119.691696, 120.4745, 119.96981000000001, 120.48913600000002, 120.93826000000001, 119.98246999999999, 120.296646, 120.4476, 119.41366599999999, 120.48175, 119.664276, 120.01281999999999, 119.66498999999999, 119.79878000000001, 120.44946000000002, 120.54526499999999, 120.02101, 120.29516000000001, 120.62685400000001, 118.26092, 120.00197, 119.63423, 119.64609499999999, 120.491196, 119.9548, 120.455345, 120.51698999999999, 120.6452, 120.535446, 120.01308999999999]}],                        {\"bargap\": 0.05, \"bargroupgap\": 0, \"barmode\": \"overlay\", \"template\": {\"data\": {\"bar\": [{\"error_x\": {\"color\": \"#2a3f5f\"}, \"error_y\": {\"color\": \"#2a3f5f\"}, \"marker\": {\"line\": {\"color\": \"#E5ECF6\", \"width\": 0.5}}, \"type\": \"bar\"}], \"barpolar\": [{\"marker\": {\"line\": {\"color\": \"#E5ECF6\", \"width\": 0.5}}, \"type\": \"barpolar\"}], \"carpet\": [{\"aaxis\": {\"endlinecolor\": \"#2a3f5f\", \"gridcolor\": \"white\", \"linecolor\": \"white\", \"minorgridcolor\": \"white\", \"startlinecolor\": \"#2a3f5f\"}, \"baxis\": {\"endlinecolor\": \"#2a3f5f\", \"gridcolor\": \"white\", \"linecolor\": \"white\", \"minorgridcolor\": \"white\", \"startlinecolor\": \"#2a3f5f\"}, \"type\": \"carpet\"}], \"choropleth\": [{\"colorbar\": {\"outlinewidth\": 0, \"ticks\": \"\"}, \"type\": \"choropleth\"}], \"contour\": [{\"colorbar\": {\"outlinewidth\": 0, \"ticks\": \"\"}, \"colorscale\": [[0.0, \"#0d0887\"], [0.1111111111111111, \"#46039f\"], [0.2222222222222222, \"#7201a8\"], [0.3333333333333333, \"#9c179e\"], [0.4444444444444444, \"#bd3786\"], [0.5555555555555556, \"#d8576b\"], [0.6666666666666666, \"#ed7953\"], [0.7777777777777778, \"#fb9f3a\"], [0.8888888888888888, \"#fdca26\"], [1.0, \"#f0f921\"]], \"type\": \"contour\"}], \"contourcarpet\": [{\"colorbar\": {\"outlinewidth\": 0, \"ticks\": \"\"}, \"type\": \"contourcarpet\"}], \"heatmap\": [{\"colorbar\": {\"outlinewidth\": 0, \"ticks\": \"\"}, \"colorscale\": [[0.0, \"#0d0887\"], [0.1111111111111111, \"#46039f\"], [0.2222222222222222, \"#7201a8\"], [0.3333333333333333, \"#9c179e\"], [0.4444444444444444, \"#bd3786\"], [0.5555555555555556, \"#d8576b\"], [0.6666666666666666, \"#ed7953\"], [0.7777777777777778, \"#fb9f3a\"], [0.8888888888888888, \"#fdca26\"], [1.0, \"#f0f921\"]], \"type\": \"heatmap\"}], \"heatmapgl\": [{\"colorbar\": {\"outlinewidth\": 0, \"ticks\": \"\"}, \"colorscale\": [[0.0, \"#0d0887\"], [0.1111111111111111, \"#46039f\"], [0.2222222222222222, \"#7201a8\"], [0.3333333333333333, \"#9c179e\"], [0.4444444444444444, \"#bd3786\"], [0.5555555555555556, \"#d8576b\"], [0.6666666666666666, \"#ed7953\"], [0.7777777777777778, \"#fb9f3a\"], [0.8888888888888888, \"#fdca26\"], [1.0, \"#f0f921\"]], \"type\": \"heatmapgl\"}], \"histogram\": [{\"marker\": {\"colorbar\": {\"outlinewidth\": 0, \"ticks\": \"\"}}, \"type\": \"histogram\"}], \"histogram2d\": [{\"colorbar\": {\"outlinewidth\": 0, \"ticks\": \"\"}, \"colorscale\": [[0.0, \"#0d0887\"], [0.1111111111111111, \"#46039f\"], [0.2222222222222222, \"#7201a8\"], [0.3333333333333333, \"#9c179e\"], [0.4444444444444444, \"#bd3786\"], [0.5555555555555556, \"#d8576b\"], [0.6666666666666666, \"#ed7953\"], [0.7777777777777778, \"#fb9f3a\"], [0.8888888888888888, \"#fdca26\"], [1.0, \"#f0f921\"]], \"type\": \"histogram2d\"}], \"histogram2dcontour\": [{\"colorbar\": {\"outlinewidth\": 0, \"ticks\": \"\"}, \"colorscale\": [[0.0, \"#0d0887\"], [0.1111111111111111, \"#46039f\"], [0.2222222222222222, \"#7201a8\"], [0.3333333333333333, \"#9c179e\"], [0.4444444444444444, \"#bd3786\"], [0.5555555555555556, \"#d8576b\"], [0.6666666666666666, \"#ed7953\"], [0.7777777777777778, \"#fb9f3a\"], [0.8888888888888888, \"#fdca26\"], [1.0, \"#f0f921\"]], \"type\": \"histogram2dcontour\"}], \"mesh3d\": [{\"colorbar\": {\"outlinewidth\": 0, \"ticks\": \"\"}, \"type\": \"mesh3d\"}], \"parcoords\": [{\"line\": {\"colorbar\": {\"outlinewidth\": 0, \"ticks\": \"\"}}, \"type\": \"parcoords\"}], \"pie\": [{\"automargin\": true, \"type\": \"pie\"}], \"scatter\": [{\"marker\": {\"colorbar\": {\"outlinewidth\": 0, \"ticks\": \"\"}}, \"type\": \"scatter\"}], \"scatter3d\": [{\"line\": {\"colorbar\": {\"outlinewidth\": 0, \"ticks\": \"\"}}, \"marker\": {\"colorbar\": {\"outlinewidth\": 0, \"ticks\": \"\"}}, \"type\": \"scatter3d\"}], \"scattercarpet\": [{\"marker\": {\"colorbar\": {\"outlinewidth\": 0, \"ticks\": \"\"}}, \"type\": \"scattercarpet\"}], \"scattergeo\": [{\"marker\": {\"colorbar\": {\"outlinewidth\": 0, \"ticks\": \"\"}}, \"type\": \"scattergeo\"}], \"scattergl\": [{\"marker\": {\"colorbar\": {\"outlinewidth\": 0, \"ticks\": \"\"}}, \"type\": \"scattergl\"}], \"scattermapbox\": [{\"marker\": {\"colorbar\": {\"outlinewidth\": 0, \"ticks\": \"\"}}, \"type\": \"scattermapbox\"}], \"scatterpolar\": [{\"marker\": {\"colorbar\": {\"outlinewidth\": 0, \"ticks\": \"\"}}, \"type\": \"scatterpolar\"}], \"scatterpolargl\": [{\"marker\": {\"colorbar\": {\"outlinewidth\": 0, \"ticks\": \"\"}}, \"type\": \"scatterpolargl\"}], \"scatterternary\": [{\"marker\": {\"colorbar\": {\"outlinewidth\": 0, \"ticks\": \"\"}}, \"type\": \"scatterternary\"}], \"surface\": [{\"colorbar\": {\"outlinewidth\": 0, \"ticks\": \"\"}, \"colorscale\": [[0.0, \"#0d0887\"], [0.1111111111111111, \"#46039f\"], [0.2222222222222222, \"#7201a8\"], [0.3333333333333333, \"#9c179e\"], [0.4444444444444444, \"#bd3786\"], [0.5555555555555556, \"#d8576b\"], [0.6666666666666666, \"#ed7953\"], [0.7777777777777778, \"#fb9f3a\"], [0.8888888888888888, \"#fdca26\"], [1.0, \"#f0f921\"]], \"type\": \"surface\"}], \"table\": [{\"cells\": {\"fill\": {\"color\": \"#EBF0F8\"}, \"line\": {\"color\": \"white\"}}, \"header\": {\"fill\": {\"color\": \"#C8D4E3\"}, \"line\": {\"color\": \"white\"}}, \"type\": \"table\"}]}, \"layout\": {\"annotationdefaults\": {\"arrowcolor\": \"#2a3f5f\", \"arrowhead\": 0, \"arrowwidth\": 1}, \"coloraxis\": {\"colorbar\": {\"outlinewidth\": 0, \"ticks\": \"\"}}, \"colorscale\": {\"diverging\": [[0, \"#8e0152\"], [0.1, \"#c51b7d\"], [0.2, \"#de77ae\"], [0.3, \"#f1b6da\"], [0.4, \"#fde0ef\"], [0.5, \"#f7f7f7\"], [0.6, \"#e6f5d0\"], [0.7, \"#b8e186\"], [0.8, \"#7fbc41\"], [0.9, \"#4d9221\"], [1, \"#276419\"]], \"sequential\": [[0.0, \"#0d0887\"], [0.1111111111111111, \"#46039f\"], [0.2222222222222222, \"#7201a8\"], [0.3333333333333333, \"#9c179e\"], [0.4444444444444444, \"#bd3786\"], [0.5555555555555556, \"#d8576b\"], [0.6666666666666666, \"#ed7953\"], [0.7777777777777778, \"#fb9f3a\"], [0.8888888888888888, \"#fdca26\"], [1.0, \"#f0f921\"]], \"sequentialminus\": [[0.0, \"#0d0887\"], [0.1111111111111111, \"#46039f\"], [0.2222222222222222, \"#7201a8\"], [0.3333333333333333, \"#9c179e\"], [0.4444444444444444, \"#bd3786\"], [0.5555555555555556, \"#d8576b\"], [0.6666666666666666, \"#ed7953\"], [0.7777777777777778, \"#fb9f3a\"], [0.8888888888888888, \"#fdca26\"], [1.0, \"#f0f921\"]]}, \"colorway\": [\"#636efa\", \"#EF553B\", \"#00cc96\", \"#ab63fa\", \"#FFA15A\", \"#19d3f3\", \"#FF6692\", \"#B6E880\", \"#FF97FF\", \"#FECB52\"], \"font\": {\"color\": \"#2a3f5f\"}, \"geo\": {\"bgcolor\": \"white\", \"lakecolor\": \"white\", \"landcolor\": \"#E5ECF6\", \"showlakes\": true, \"showland\": true, \"subunitcolor\": \"white\"}, \"hoverlabel\": {\"align\": \"left\"}, \"hovermode\": \"closest\", \"mapbox\": {\"style\": \"light\"}, \"paper_bgcolor\": \"white\", \"plot_bgcolor\": \"#E5ECF6\", \"polar\": {\"angularaxis\": {\"gridcolor\": \"white\", \"linecolor\": \"white\", \"ticks\": \"\"}, \"bgcolor\": \"#E5ECF6\", \"radialaxis\": {\"gridcolor\": \"white\", \"linecolor\": \"white\", \"ticks\": \"\"}}, \"scene\": {\"xaxis\": {\"backgroundcolor\": \"#E5ECF6\", \"gridcolor\": \"white\", \"gridwidth\": 2, \"linecolor\": \"white\", \"showbackground\": true, \"ticks\": \"\", \"zerolinecolor\": \"white\"}, \"yaxis\": {\"backgroundcolor\": \"#E5ECF6\", \"gridcolor\": \"white\", \"gridwidth\": 2, \"linecolor\": \"white\", \"showbackground\": true, \"ticks\": \"\", \"zerolinecolor\": \"white\"}, \"zaxis\": {\"backgroundcolor\": \"#E5ECF6\", \"gridcolor\": \"white\", \"gridwidth\": 2, \"linecolor\": \"white\", \"showbackground\": true, \"ticks\": \"\", \"zerolinecolor\": \"white\"}}, \"shapedefaults\": {\"line\": {\"color\": \"#2a3f5f\"}}, \"ternary\": {\"aaxis\": {\"gridcolor\": \"white\", \"linecolor\": \"white\", \"ticks\": \"\"}, \"baxis\": {\"gridcolor\": \"white\", \"linecolor\": \"white\", \"ticks\": \"\"}, \"bgcolor\": \"#E5ECF6\", \"caxis\": {\"gridcolor\": \"white\", \"linecolor\": \"white\", \"ticks\": \"\"}}, \"title\": {\"x\": 0.05}, \"xaxis\": {\"automargin\": true, \"gridcolor\": \"white\", \"linecolor\": \"white\", \"ticks\": \"\", \"title\": {\"standoff\": 15}, \"zerolinecolor\": \"white\", \"zerolinewidth\": 2}, \"yaxis\": {\"automargin\": true, \"gridcolor\": \"white\", \"linecolor\": \"white\", \"ticks\": \"\", \"title\": {\"standoff\": 15}, \"zerolinecolor\": \"white\", \"zerolinewidth\": 2}}}, \"title\": {\"text\": \"Distribution of Call option Strikes (100 runs) of Neural Network - 5 options\", \"x\": 0.48, \"y\": 0.89}, \"xaxis\": {\"title\": {\"text\": \"Strike\"}}, \"yaxis\": {\"title\": {\"text\": \"Count\"}}},                        {\"responsive\": true}                    ).then(function(){\n",
       "                            \n",
       "var gd = document.getElementById('830f6b3c-71a4-4291-bede-5eb553de52fc');\n",
       "var x = new MutationObserver(function (mutations, observer) {{\n",
       "        var display = window.getComputedStyle(gd).display;\n",
       "        if (!display || display === 'none') {{\n",
       "            console.log([gd, 'removed!']);\n",
       "            Plotly.purge(gd);\n",
       "            observer.disconnect();\n",
       "        }}\n",
       "}});\n",
       "\n",
       "// Listen for the removal of the full notebook cells\n",
       "var notebookContainer = gd.closest('#notebook-container');\n",
       "if (notebookContainer) {{\n",
       "    x.observe(notebookContainer, {childList: true});\n",
       "}}\n",
       "\n",
       "// Listen for the clearing of the current output cell\n",
       "var outputEl = gd.closest('.output');\n",
       "if (outputEl) {{\n",
       "    x.observe(outputEl, {childList: true});\n",
       "}}\n",
       "\n",
       "                        })                };                });            </script>        </div>"
      ]
     },
     "metadata": {},
     "output_type": "display_data"
    }
   ],
   "source": [
    "import plotly.graph_objects as go\n",
    "import pandas as pd\n",
    "import plotly.express as px\n",
    "\n",
    "\n",
    "no_of_options=5\n",
    "no_of_paths = 5000\n",
    "no_of_paths_test = 5000\n",
    "\n",
    "# Total number of runs neural network static hedge created\n",
    "no_of_runs = 100\n",
    "\n",
    "file_ident = \"constr_normal\"\n",
    "# file_ident = \"constr_nomal_fixSeed\"\n",
    "df = pd.read_csv('Stability Analysis - Outputs/Dataframes Optimized/df_nn_hedge_params_' + file_ident + '_sim' + str(no_of_paths_test) + '_opt' + str(no_of_options) + '_runs' + str(no_of_runs) + '.csv', index_col=0)\n",
    "df['rank'] = df.groupby('Runs')['Strike'].rank(method='max')\n",
    "\n",
    "fig = go.Figure()\n",
    "\n",
    "for i in range(1, no_of_options+1, 1):\n",
    "    fig.add_trace(go.Histogram(x=df[df['rank']==i]['Strike'], name= \"Strike \" + str(int(i))))\n",
    "fig.update_layout(barmode='overlay')\n",
    "\n",
    "# Reduce opacity to see both histograms\n",
    "fig.update_traces(opacity=0.6)\n",
    "\n",
    "fig.update_layout(\n",
    "    title_text='Distribution of Call option Strikes (100 runs) of Neural Network - ' + str(no_of_options) + ' options', # title of plot\n",
    "    title_x = 0.48,\n",
    "    title_y = 0.89,\n",
    "    xaxis_title_text='Strike', # xaxis label\n",
    "    yaxis_title_text='Count', # yaxis label\n",
    "    bargap=0.05, # gap between bars of adjacent location coordinates\n",
    "    bargroupgap=0 # gap between bars of the same location coordinates\n",
    ")\n",
    "\n",
    "\n",
    "\n",
    "fig.show()\n",
    "\n",
    "# file_ident = \"nn_constr_call\"\n",
    "# file_ident = \"constr_nomal_fixSeed\"\n",
    "# plot_name = 'fig_' + file_ident + '_sim' + str(no_of_paths_test) + '_opt' + str(no_of_options) + '_runs' + str(no_of_runs)\n",
    "\n",
    "# fig.write_image(\"Stability Analysis - Outputs/Final Plots/\" + plot_name + \".png\")\n"
   ]
  },
  {
   "cell_type": "code",
   "execution_count": 32,
   "metadata": {},
   "outputs": [
    {
     "data": {
      "application/vnd.plotly.v1+json": {
       "config": {
        "plotlyServerURL": "https://plot.ly"
       },
       "data": [
        {
         "name": "Strike 1",
         "type": "histogram",
         "x": [
          68.939,
          68.33736999999999,
          68.54326,
          68.3053,
          68.82652,
          68.44337,
          68.46207,
          68.08838,
          68.6147,
          68.62144,
          68.37996,
          68.415054,
          68.57941,
          67.863014,
          68.412384,
          68.44202,
          68.36371,
          68.4953,
          68.6328,
          69.068535,
          68.80802,
          68.407555,
          68.3308,
          68.42775,
          68.44615,
          68.55856,
          68.38008,
          68.42724,
          68.57579,
          66.40215,
          69.366104,
          68.6168,
          68.16067,
          67.53413,
          69.22624,
          67.87827,
          68.43122,
          69.19107,
          68.60413,
          68.77077,
          66.25828,
          68.58836,
          68.16026,
          68.7127,
          68.58803,
          68.44457,
          68.46373,
          68.60784,
          68.80819,
          68.72822,
          69.11568,
          68.37399,
          68.35133,
          68.54557,
          68.48961,
          68.48354,
          68.635635,
          68.71868,
          68.41134,
          68.5868,
          68.63958000000001,
          68.56676,
          68.58337399999999,
          68.43434,
          68.65982,
          68.21915,
          68.49006,
          68.968216,
          68.43291500000001,
          68.6619,
          68.45654,
          68.55337,
          68.50501,
          68.66127,
          69.3585,
          68.40858,
          68.50804000000001,
          68.51585,
          67.36819,
          68.5245,
          68.443474,
          68.468956,
          68.02589,
          68.028336,
          68.5743,
          68.875015,
          68.443535,
          68.50188,
          69.48368,
          66.02586,
          68.45246,
          68.14627,
          68.047676,
          68.510284,
          68.41672,
          68.660965,
          68.78851,
          69.30156,
          68.88292,
          68.553246
         ],
         "xaxis": "x",
         "xbins": {
          "end": 69,
          "size": 0.2,
          "start": 68
         },
         "yaxis": "y"
        },
        {
         "name": "Strike 2",
         "type": "histogram",
         "x": [
          85.08556999999999,
          84.28603000000001,
          84.683876,
          83.94068,
          84.97539,
          84.299706,
          84.36281,
          83.16487,
          84.71600000000001,
          84.75299999999999,
          84.07046,
          84.19343,
          84.32178499999999,
          83.64106,
          84.335075,
          84.301704,
          84.08178000000001,
          84.60654,
          84.43030999999999,
          85.46713000000001,
          84.95943,
          84.137474,
          84.256035,
          84.3064,
          84.381424,
          84.6946,
          84.10526,
          84.39837,
          84.36463,
          80.49712,
          85.848236,
          84.75511,
          83.997955,
          82.91391999999999,
          85.65802,
          83.63695,
          84.470474,
          85.56886,
          84.534325,
          84.9089,
          79.910545,
          84.242455,
          83.754196,
          84.59268,
          84.72336999999999,
          84.37688399999999,
          84.483315,
          84.74139,
          84.96013,
          84.69775,
          85.6748,
          84.084335,
          84.222084,
          84.69545,
          84.59136,
          84.60076,
          84.49648,
          84.85552,
          84.332825,
          84.708496,
          84.592125,
          84.71493000000001,
          84.72031,
          84.38353000000001,
          84.79431,
          83.88337,
          84.13198,
          85.12063,
          84.05611,
          84.5043,
          84.186325,
          84.6995,
          84.35015,
          84.81005,
          85.95879000000001,
          84.3101,
          84.50515,
          84.620605,
          82.583885,
          84.63163,
          83.99753,
          84.36142,
          83.78998,
          83.82725,
          84.71368000000001,
          85.021385,
          84.35191999999999,
          84.49467,
          85.9552,
          79.799576,
          84.39135999999999,
          83.70169,
          83.82146999999999,
          84.62463000000001,
          84.26796999999999,
          84.77507,
          84.94263000000001,
          85.78259,
          85.02821,
          84.49700000000001
         ],
         "xaxis": "x3",
         "xbins": {
          "end": 86,
          "size": 0.25,
          "start": 83
         },
         "yaxis": "y3"
        },
        {
         "name": "Strike 3",
         "type": "histogram",
         "x": [
          95.65573,
          94.87143,
          95.44037,
          94.350235,
          95.60096,
          94.77020999999999,
          94.87745,
          93.41604,
          95.444115,
          95.495026,
          94.42877,
          94.603714,
          94.63056999999999,
          94.2589,
          94.88031,
          94.770065,
          94.48544,
          95.40171,
          94.739914,
          96.00352,
          95.58449,
          94.500374,
          94.839874,
          94.80001999999999,
          94.96708000000001,
          95.45913,
          94.47728000000001,
          95.05254000000001,
          94.674355,
          91.41015,
          96.19296999999999,
          95.49653,
          94.60011999999999,
          93.61975,
          96.09739,
          94.23655,
          95.18901,
          95.96611,
          95.040146,
          95.53741,
          90.93643,
          94.44075,
          94.21611,
          94.94981,
          95.49665,
          94.9706,
          95.13458,
          95.49557,
          95.585976,
          95.141914,
          96.288795,
          94.46199,
          94.73846400000001,
          95.4666,
          95.40585,
          95.41627,
          94.92834,
          95.54245999999999,
          94.87555,
          95.453766,
          95.082245,
          95.47499,
          95.47569,
          94.98205,
          95.49070999999999,
          94.35545,
          94.380066,
          95.67205,
          94.34466,
          94.827286,
          94.518524,
          95.47702,
          94.783585,
          95.52645,
          96.57223499999999,
          94.84088,
          95.12654,
          95.43236,
          93.32181,
          95.43135,
          94.22036999999999,
          94.86069,
          94.39008000000001,
          94.470314,
          95.48248000000001,
          95.64513000000001,
          94.91360999999999,
          95.10771,
          96.22632,
          90.91618000000001,
          94.974335,
          94.14268,
          94.408485,
          95.4278,
          94.7362,
          95.482475,
          95.58079000000001,
          96.26396,
          95.65509,
          95.02085
         ],
         "xaxis": "x5",
         "xbins": {
          "end": 96,
          "size": 0.25,
          "start": 93
         },
         "yaxis": "y5"
        },
        {
         "name": "Strike 4",
         "type": "histogram",
         "x": [
          106.33008600000001,
          105.66350600000001,
          106.22233999999999,
          105.21972,
          106.31894,
          105.63257,
          105.67188,
          104.5764,
          106.22961399999998,
          106.24638999999999,
          105.24771000000001,
          105.39034,
          105.43431000000001,
          105.19296999999999,
          105.68249499999999,
          105.62272,
          105.30116000000001,
          106.238,
          105.52038999999999,
          106.49512,
          106.30758999999999,
          105.30578999999999,
          105.67653,
          105.66051999999999,
          105.76256599999999,
          106.26006000000001,
          105.26451000000002,
          105.8762,
          105.42623999999999,
          103.48818,
          106.61211999999999,
          106.260475,
          105.45857,
          104.86124,
          106.568924,
          105.18418999999999,
          106.04568,
          106.4708,
          105.770325,
          106.24943999999999,
          103.133224,
          105.21301000000001,
          105.19748,
          105.67513999999998,
          106.26791399999999,
          105.72968999999999,
          105.94991,
          106.25672,
          106.30289499999999,
          105.86590600000001,
          106.78249,
          105.24841,
          105.62195600000001,
          106.235565,
          106.22583999999999,
          106.2504,
          105.68765,
          106.26467,
          105.675674,
          106.249954,
          105.8116,
          106.28426,
          106.24492,
          105.75362,
          106.24281,
          105.21773999999999,
          105.21609,
          106.33743999999999,
          105.19521,
          105.62806,
          105.29097,
          106.24290500000001,
          105.63011000000002,
          106.26926399999999,
          107.00058999999999,
          105.66958999999999,
          105.9443,
          106.227455,
          104.63571,
          106.23947,
          105.14796000000001,
          105.70015,
          105.25693999999999,
          105.34608500000002,
          106.24826999999999,
          106.34733999999999,
          105.69767,
          105.90587,
          106.62286999999999,
          103.111855,
          105.72403999999999,
          105.155075,
          105.228195,
          106.25086999999999,
          105.58903500000001,
          106.25095,
          106.31301,
          106.71918500000001,
          106.34693999999999,
          105.759514
         ],
         "xaxis": "x7",
         "xbins": {
          "end": 107,
          "size": 0.25,
          "start": 104
         },
         "yaxis": "y7"
        },
        {
         "name": "Strike 5",
         "type": "histogram",
         "x": [
          120.5168,
          119.965515,
          120.49753,
          119.65256000000001,
          120.51597,
          119.98047,
          119.95883,
          119.3751,
          120.45245,
          120.45815,
          119.68287,
          119.7528,
          119.8684,
          119.631325,
          119.98317,
          119.98418400000001,
          119.70378000000001,
          120.47478000000001,
          119.927536,
          120.587746,
          120.4909,
          119.71211000000001,
          119.9753,
          119.973076,
          120.12468999999999,
          120.49373999999999,
          119.69216000000002,
          120.30461000000001,
          119.84676999999999,
          118.4167,
          120.62240600000001,
          120.49051999999999,
          119.88486,
          119.50954399999999,
          120.626724,
          119.64738999999999,
          120.39312,
          120.52269,
          120.01393999999999,
          120.420006,
          118.22677,
          119.637726,
          119.667076,
          119.981094,
          120.4702,
          120.00556,
          120.31165,
          120.43224,
          120.50716000000001,
          120.21988999999999,
          120.68195,
          119.6359,
          119.9707,
          120.43923000000001,
          120.452774,
          120.46971,
          119.9949,
          120.4453,
          119.99135,
          120.46896000000001,
          120.064674,
          120.44169,
          120.42538,
          119.99951999999999,
          120.44318,
          119.657005,
          119.683815,
          120.52548999999999,
          119.65568,
          119.96883400000002,
          119.691696,
          120.4745,
          119.96981000000001,
          120.48913600000002,
          120.93826000000001,
          119.98246999999999,
          120.296646,
          120.4476,
          119.41366599999999,
          120.48175,
          119.664276,
          120.01281999999999,
          119.66498999999999,
          119.79878000000001,
          120.44946000000002,
          120.54526499999999,
          120.02101,
          120.29516000000001,
          120.62685400000001,
          118.26092,
          120.00197,
          119.63423,
          119.64609499999999,
          120.491196,
          119.9548,
          120.455345,
          120.51698999999999,
          120.6452,
          120.535446,
          120.01308999999999
         ],
         "xaxis": "x9",
         "xbins": {
          "end": 121,
          "size": 0.25,
          "start": 119
         },
         "yaxis": "y9"
        },
        {
         "name": "Strike 1",
         "type": "histogram",
         "x": [
          68.7169,
          68.71694000000001,
          68.71803,
          68.71761,
          68.71755,
          68.716675,
          68.71766,
          68.71758,
          68.71668000000001,
          68.718414,
          68.71647,
          68.71688,
          68.716736,
          68.717545,
          68.716934,
          68.716774,
          68.71683,
          68.71803,
          68.71809,
          68.71701999999999,
          68.716835,
          68.716515,
          68.71683,
          68.71845,
          68.71755,
          68.71754,
          68.71686600000001,
          68.717545,
          68.71754,
          68.71805,
          68.71666,
          68.71759,
          68.7175,
          68.71668000000001,
          68.71823,
          68.7181,
          68.716934,
          68.71693,
          68.71804,
          68.718376,
          68.71755,
          68.7184,
          68.71680500000001,
          68.71689599999999,
          68.717804,
          68.71826999999999,
          68.71806,
          68.71811,
          68.716835,
          68.717995,
          68.71669,
          68.71751400000001,
          68.71805,
          68.71661,
          68.71767,
          68.71755999999999,
          68.71689599999999,
          68.71682,
          68.71813,
          68.71754,
          68.71687,
          68.71806,
          68.72036,
          68.718025,
          68.71807,
          68.7168,
          68.71694000000001,
          68.71758,
          68.71752,
          68.71754,
          68.716934,
          68.717545,
          68.71696999999999,
          68.71879,
          68.71800999999999,
          68.71831,
          68.716705,
          68.718124,
          68.71754,
          68.71759,
          68.718094,
          68.71757,
          68.71755,
          68.71784,
          68.71692,
          68.716774,
          68.71802,
          68.71699,
          68.71808,
          68.71689,
          68.71811,
          68.71755999999999,
          68.71689599999999,
          68.71764,
          68.71679,
          68.71763,
          68.71678,
          68.716995,
          68.717545,
          68.71672
         ],
         "xaxis": "x2",
         "xbins": {
          "end": 69,
          "size": 0.2,
          "start": 68
         },
         "yaxis": "y2"
        },
        {
         "name": "Strike 2",
         "type": "histogram",
         "x": [
          84.84224,
          84.84225500000001,
          84.845505,
          84.84491,
          84.84488,
          84.84206,
          84.84487,
          84.84492,
          84.84210999999999,
          84.84561,
          84.84198,
          84.842285,
          84.842125,
          84.84487,
          84.84226,
          84.84221,
          84.8422,
          84.8455,
          84.84554,
          84.8422,
          84.84227,
          84.84196999999999,
          84.84222,
          84.84567,
          84.84493,
          84.84489,
          84.842285,
          84.84488,
          84.844864,
          84.845505,
          84.84209399999999,
          84.8449,
          84.84485,
          84.84206999999999,
          84.84563399999999,
          84.84558,
          84.8423,
          84.84226,
          84.84551,
          84.84562,
          84.8449,
          84.84561,
          84.84222,
          84.84226,
          84.84509,
          84.84572,
          84.84552,
          84.84554,
          84.84227,
          84.845474,
          84.84209399999999,
          84.844864,
          84.84552,
          84.84196,
          84.84493,
          84.84483,
          84.842285,
          84.84223,
          84.84557,
          84.84486,
          84.842285,
          84.84552,
          84.84801999999999,
          84.8455,
          84.84555,
          84.8422,
          84.84228,
          84.844894,
          84.84485,
          84.84488,
          84.84232,
          84.84485,
          84.84233,
          84.84591,
          84.84553000000001,
          84.845764,
          84.84204,
          84.84555999999999,
          84.844864,
          84.84491,
          84.845535,
          84.844894,
          84.84485,
          84.845146,
          84.84223,
          84.84218,
          84.845505,
          84.842316,
          84.84551,
          84.84225500000001,
          84.84555999999999,
          84.84487,
          84.84222,
          84.84492,
          84.84223,
          84.84489,
          84.84209399999999,
          84.842415,
          84.84487,
          84.84210999999999
         ],
         "xaxis": "x4",
         "xbins": {
          "end": 86,
          "size": 0.25,
          "start": 83
         },
         "yaxis": "y4"
        },
        {
         "name": "Strike 3",
         "type": "histogram",
         "x": [
          95.51290999999999,
          95.512924,
          95.51515,
          95.5147,
          95.5147,
          95.51259,
          95.51468,
          95.51384,
          95.5129,
          95.51521,
          95.512695,
          95.51301600000001,
          95.51265,
          95.5147,
          95.51293000000001,
          95.51283000000001,
          95.512924,
          95.51512,
          95.51635999999999,
          95.51267,
          95.51289,
          95.51256,
          95.51295,
          95.51518,
          95.51479,
          95.51473,
          95.51297,
          95.51472,
          95.51468,
          95.51514,
          95.51273,
          95.514725,
          95.51471,
          95.51269,
          95.51519,
          95.51521,
          95.51298,
          95.51295,
          95.516304,
          95.51519,
          95.51476,
          95.51515,
          95.512955,
          95.51298,
          95.51482,
          95.51649499999999,
          95.51515,
          95.51631,
          95.51301,
          95.51515,
          95.5127,
          95.51472,
          95.51517,
          95.512405,
          95.5148,
          95.51469399999999,
          95.51299999999999,
          95.51298,
          95.51518,
          95.5147,
          95.512985,
          95.51633000000001,
          95.51689,
          95.51514399999999,
          95.5152,
          95.51281,
          95.512955,
          95.51472,
          95.51469399999999,
          95.51473,
          95.51303,
          95.51465999999999,
          95.51301600000001,
          95.51635,
          95.51638,
          95.51652,
          95.51250999999999,
          95.51638,
          95.514725,
          95.51474,
          95.51633000000001,
          95.51475,
          95.51465999999999,
          95.51483,
          95.51290999999999,
          95.51281,
          95.51517,
          95.512985,
          95.51516,
          95.51298,
          95.51518,
          95.51472,
          95.512886,
          95.51477,
          95.51288000000001,
          95.51476,
          95.51254,
          95.51303,
          95.51469399999999,
          95.512695
         ],
         "xaxis": "x6",
         "xbins": {
          "end": 96,
          "size": 0.25,
          "start": 93
         },
         "yaxis": "y6"
        },
        {
         "name": "Strike 4",
         "type": "histogram",
         "x": [
          106.24871,
          106.248726,
          106.24915,
          106.24915,
          106.24911499999999,
          106.24824,
          106.24911499999999,
          106.24913000000001,
          106.24875,
          106.24976000000001,
          106.24797,
          106.24881,
          106.24831,
          106.249146,
          106.24871,
          106.24848999999999,
          106.24871,
          106.24911499999999,
          106.24925,
          106.24793999999999,
          106.24856000000001,
          106.24826000000002,
          106.24873000000001,
          106.2492,
          106.24916999999999,
          106.24916999999999,
          106.24871,
          106.249146,
          106.24911000000002,
          106.24911000000002,
          106.24797,
          106.249146,
          106.24913000000001,
          106.24793999999999,
          106.24915,
          106.24918999999998,
          106.24875,
          106.24873000000001,
          106.249146,
          106.24923999999999,
          106.2492,
          106.249176,
          106.24875,
          106.24875,
          106.24908400000001,
          106.250046,
          106.24911000000002,
          106.249214,
          106.248795,
          106.249146,
          106.24793999999999,
          106.24915,
          106.249146,
          106.24805,
          106.2492,
          106.249146,
          106.248795,
          106.24875,
          106.249146,
          106.24911499999999,
          106.24875,
          106.24922,
          106.24881,
          106.24913000000001,
          106.24918999999998,
          106.24848999999999,
          106.248764,
          106.249146,
          106.24911499999999,
          106.24916999999999,
          106.248795,
          106.24909,
          106.24878999999999,
          106.249146,
          106.25,
          106.250046,
          106.24811000000001,
          106.249275,
          106.249146,
          106.24916999999999,
          106.2492,
          106.249176,
          106.24911499999999,
          106.24911499999999,
          106.24868000000001,
          106.248474,
          106.24916999999999,
          106.248764,
          106.24916999999999,
          106.24877,
          106.24918999999998,
          106.24913000000001,
          106.24868000000001,
          106.249214,
          106.24856000000001,
          106.24918999999998,
          106.24813,
          106.24826000000002,
          106.24913000000001,
          106.24793999999999
         ],
         "xaxis": "x8",
         "xbins": {
          "end": 107,
          "size": 0.25,
          "start": 104
         },
         "yaxis": "y8"
        },
        {
         "name": "Strike 5",
         "type": "histogram",
         "x": [
          120.44592,
          120.44592,
          120.446205,
          120.446304,
          120.44631000000001,
          120.44593,
          120.446205,
          120.44601399999999,
          120.44594599999999,
          120.44691,
          120.44551000000001,
          120.44599,
          120.446,
          120.446335,
          120.44594599999999,
          120.44588999999999,
          120.44591000000001,
          120.44618,
          120.44627,
          120.44548999999999,
          120.44592,
          120.44599,
          120.44598,
          120.44616,
          120.446266,
          120.44637,
          120.44596999999999,
          120.44633,
          120.446266,
          120.44614399999999,
          120.44554,
          120.44631000000001,
          120.44635,
          120.4455,
          120.44622,
          120.44622,
          120.44595,
          120.44592,
          120.44625,
          120.44622,
          120.446335,
          120.44613999999999,
          120.44593,
          120.44595,
          120.446266,
          120.44736499999999,
          120.44617,
          120.44627,
          120.44601399999999,
          120.44618,
          120.445526,
          120.446335,
          120.446205,
          120.44585,
          120.44628999999999,
          120.44628999999999,
          120.44596999999999,
          120.44596999999999,
          120.44618999999999,
          120.44631000000001,
          120.44595,
          120.446304,
          120.44591000000001,
          120.44618,
          120.44622,
          120.44591000000001,
          120.44596999999999,
          120.44631000000001,
          120.44633,
          120.44635,
          120.446,
          120.446304,
          120.44598,
          120.44623999999999,
          120.447395,
          120.44735,
          120.44591000000001,
          120.446335,
          120.44633,
          120.44633,
          120.44623999999999,
          120.446335,
          120.44628999999999,
          120.44628999999999,
          120.44588999999999,
          120.44593,
          120.44622,
          120.44596999999999,
          120.44622,
          120.44595,
          120.44623999999999,
          120.446304,
          120.44592,
          120.44628999999999,
          120.44594599999999,
          120.44628999999999,
          120.44595,
          120.44548999999999,
          120.44631000000001,
          120.44551000000001
         ],
         "xaxis": "x10",
         "xbins": {
          "end": 121,
          "size": 0.25,
          "start": 119
         },
         "yaxis": "y10"
        }
       ],
       "layout": {
        "annotations": [
         {
          "font": {
           "size": 19
          },
          "showarrow": false,
          "text": "Strikes - Random Seed",
          "x": 0.25,
          "xanchor": "center",
          "xref": "paper",
          "y": 1,
          "yanchor": "bottom",
          "yref": "paper"
         },
         {
          "font": {
           "size": 19
          },
          "showarrow": false,
          "text": "Strikes - Fixed Seed",
          "x": 0.75,
          "xanchor": "center",
          "xref": "paper",
          "y": 1,
          "yanchor": "bottom",
          "yref": "paper"
         },
         {
          "font": {
           "size": 19
          },
          "showarrow": false,
          "text": "Strikes - Random Seed",
          "x": 0.25,
          "xanchor": "center",
          "xref": "paper",
          "y": 1,
          "yanchor": "bottom",
          "yref": "paper"
         },
         {
          "font": {
           "size": 19
          },
          "showarrow": false,
          "text": "Strikes - Fixed Seed",
          "x": 0.75,
          "xanchor": "center",
          "xref": "paper",
          "y": 1,
          "yanchor": "bottom",
          "yref": "paper"
         },
         {
          "font": {
           "color": "black",
           "size": 12
          },
          "showarrow": false,
          "text": "Mean: 68.47<br> Std Dev: 0.51",
          "x": 0.01,
          "xanchor": "left",
          "xref": "paper",
          "y": 0.999,
          "yanchor": "top",
          "yref": "paper"
         },
         {
          "font": {
           "color": "black",
           "size": 12
          },
          "showarrow": false,
          "text": "Mean: 84.37<br> Std Dev: 0.94",
          "x": 0.01,
          "xanchor": "left",
          "xref": "paper",
          "y": 0.78,
          "yanchor": "top",
          "yref": "paper"
         },
         {
          "font": {
           "color": "black",
           "size": 12
          },
          "showarrow": false,
          "text": "Mean: 94.94<br> Std Dev: 0.91",
          "x": 0.01,
          "xanchor": "left",
          "xref": "paper",
          "y": 0.56,
          "yanchor": "top",
          "yref": "paper"
         },
         {
          "font": {
           "color": "black",
           "size": 12
          },
          "showarrow": false,
          "text": "Mean: 105.76<br> Std Dev: 0.66",
          "x": 0.01,
          "xanchor": "left",
          "xref": "paper",
          "y": 0.34,
          "yanchor": "top",
          "yref": "paper"
         },
         {
          "font": {
           "color": "black",
           "size": 12
          },
          "showarrow": false,
          "text": "Mean: 120.08<br> Std Dev: 0.48",
          "x": 0.01,
          "xanchor": "left",
          "xref": "paper",
          "y": 0.12,
          "yanchor": "top",
          "yref": "paper"
         },
         {
          "font": {
           "color": "black",
           "size": 12
          },
          "showarrow": false,
          "text": "Mean: 68.72<br> Std Dev: 0.0",
          "x": 0.56,
          "xanchor": "left",
          "xref": "paper",
          "y": 0.999,
          "yanchor": "top",
          "yref": "paper"
         },
         {
          "font": {
           "color": "black",
           "size": 12
          },
          "showarrow": false,
          "text": "Mean: 84.84<br> Std Dev: 0.0",
          "x": 0.56,
          "xanchor": "left",
          "xref": "paper",
          "y": 0.78,
          "yanchor": "top",
          "yref": "paper"
         },
         {
          "font": {
           "color": "black",
           "size": 12
          },
          "showarrow": false,
          "text": "Mean: 95.51<br> Std Dev: 0.0",
          "x": 0.56,
          "xanchor": "left",
          "xref": "paper",
          "y": 0.56,
          "yanchor": "top",
          "yref": "paper"
         },
         {
          "font": {
           "color": "black",
           "size": 12
          },
          "showarrow": false,
          "text": "Mean: 106.25<br> Std Dev: 0.0",
          "x": 0.56,
          "xanchor": "left",
          "xref": "paper",
          "y": 0.34,
          "yanchor": "top",
          "yref": "paper"
         },
         {
          "font": {
           "color": "black",
           "size": 12
          },
          "showarrow": false,
          "text": "Mean: 120.45<br> Std Dev: 0.0",
          "x": 0.56,
          "xanchor": "left",
          "xref": "paper",
          "y": 0.12,
          "yanchor": "top",
          "yref": "paper"
         }
        ],
        "bargap": 0.05,
        "bargroupgap": 0,
        "barmode": "overlay",
        "font": {
         "color": "black",
         "size": 18
        },
        "height": 1000,
        "showlegend": false,
        "template": {
         "data": {
          "bar": [
           {
            "error_x": {
             "color": "#2a3f5f"
            },
            "error_y": {
             "color": "#2a3f5f"
            },
            "marker": {
             "line": {
              "color": "#E5ECF6",
              "width": 0.5
             }
            },
            "type": "bar"
           }
          ],
          "barpolar": [
           {
            "marker": {
             "line": {
              "color": "#E5ECF6",
              "width": 0.5
             }
            },
            "type": "barpolar"
           }
          ],
          "carpet": [
           {
            "aaxis": {
             "endlinecolor": "#2a3f5f",
             "gridcolor": "white",
             "linecolor": "white",
             "minorgridcolor": "white",
             "startlinecolor": "#2a3f5f"
            },
            "baxis": {
             "endlinecolor": "#2a3f5f",
             "gridcolor": "white",
             "linecolor": "white",
             "minorgridcolor": "white",
             "startlinecolor": "#2a3f5f"
            },
            "type": "carpet"
           }
          ],
          "choropleth": [
           {
            "colorbar": {
             "outlinewidth": 0,
             "ticks": ""
            },
            "type": "choropleth"
           }
          ],
          "contour": [
           {
            "colorbar": {
             "outlinewidth": 0,
             "ticks": ""
            },
            "colorscale": [
             [
              0,
              "#0d0887"
             ],
             [
              0.1111111111111111,
              "#46039f"
             ],
             [
              0.2222222222222222,
              "#7201a8"
             ],
             [
              0.3333333333333333,
              "#9c179e"
             ],
             [
              0.4444444444444444,
              "#bd3786"
             ],
             [
              0.5555555555555556,
              "#d8576b"
             ],
             [
              0.6666666666666666,
              "#ed7953"
             ],
             [
              0.7777777777777778,
              "#fb9f3a"
             ],
             [
              0.8888888888888888,
              "#fdca26"
             ],
             [
              1,
              "#f0f921"
             ]
            ],
            "type": "contour"
           }
          ],
          "contourcarpet": [
           {
            "colorbar": {
             "outlinewidth": 0,
             "ticks": ""
            },
            "type": "contourcarpet"
           }
          ],
          "heatmap": [
           {
            "colorbar": {
             "outlinewidth": 0,
             "ticks": ""
            },
            "colorscale": [
             [
              0,
              "#0d0887"
             ],
             [
              0.1111111111111111,
              "#46039f"
             ],
             [
              0.2222222222222222,
              "#7201a8"
             ],
             [
              0.3333333333333333,
              "#9c179e"
             ],
             [
              0.4444444444444444,
              "#bd3786"
             ],
             [
              0.5555555555555556,
              "#d8576b"
             ],
             [
              0.6666666666666666,
              "#ed7953"
             ],
             [
              0.7777777777777778,
              "#fb9f3a"
             ],
             [
              0.8888888888888888,
              "#fdca26"
             ],
             [
              1,
              "#f0f921"
             ]
            ],
            "type": "heatmap"
           }
          ],
          "heatmapgl": [
           {
            "colorbar": {
             "outlinewidth": 0,
             "ticks": ""
            },
            "colorscale": [
             [
              0,
              "#0d0887"
             ],
             [
              0.1111111111111111,
              "#46039f"
             ],
             [
              0.2222222222222222,
              "#7201a8"
             ],
             [
              0.3333333333333333,
              "#9c179e"
             ],
             [
              0.4444444444444444,
              "#bd3786"
             ],
             [
              0.5555555555555556,
              "#d8576b"
             ],
             [
              0.6666666666666666,
              "#ed7953"
             ],
             [
              0.7777777777777778,
              "#fb9f3a"
             ],
             [
              0.8888888888888888,
              "#fdca26"
             ],
             [
              1,
              "#f0f921"
             ]
            ],
            "type": "heatmapgl"
           }
          ],
          "histogram": [
           {
            "marker": {
             "colorbar": {
              "outlinewidth": 0,
              "ticks": ""
             }
            },
            "type": "histogram"
           }
          ],
          "histogram2d": [
           {
            "colorbar": {
             "outlinewidth": 0,
             "ticks": ""
            },
            "colorscale": [
             [
              0,
              "#0d0887"
             ],
             [
              0.1111111111111111,
              "#46039f"
             ],
             [
              0.2222222222222222,
              "#7201a8"
             ],
             [
              0.3333333333333333,
              "#9c179e"
             ],
             [
              0.4444444444444444,
              "#bd3786"
             ],
             [
              0.5555555555555556,
              "#d8576b"
             ],
             [
              0.6666666666666666,
              "#ed7953"
             ],
             [
              0.7777777777777778,
              "#fb9f3a"
             ],
             [
              0.8888888888888888,
              "#fdca26"
             ],
             [
              1,
              "#f0f921"
             ]
            ],
            "type": "histogram2d"
           }
          ],
          "histogram2dcontour": [
           {
            "colorbar": {
             "outlinewidth": 0,
             "ticks": ""
            },
            "colorscale": [
             [
              0,
              "#0d0887"
             ],
             [
              0.1111111111111111,
              "#46039f"
             ],
             [
              0.2222222222222222,
              "#7201a8"
             ],
             [
              0.3333333333333333,
              "#9c179e"
             ],
             [
              0.4444444444444444,
              "#bd3786"
             ],
             [
              0.5555555555555556,
              "#d8576b"
             ],
             [
              0.6666666666666666,
              "#ed7953"
             ],
             [
              0.7777777777777778,
              "#fb9f3a"
             ],
             [
              0.8888888888888888,
              "#fdca26"
             ],
             [
              1,
              "#f0f921"
             ]
            ],
            "type": "histogram2dcontour"
           }
          ],
          "mesh3d": [
           {
            "colorbar": {
             "outlinewidth": 0,
             "ticks": ""
            },
            "type": "mesh3d"
           }
          ],
          "parcoords": [
           {
            "line": {
             "colorbar": {
              "outlinewidth": 0,
              "ticks": ""
             }
            },
            "type": "parcoords"
           }
          ],
          "pie": [
           {
            "automargin": true,
            "type": "pie"
           }
          ],
          "scatter": [
           {
            "marker": {
             "colorbar": {
              "outlinewidth": 0,
              "ticks": ""
             }
            },
            "type": "scatter"
           }
          ],
          "scatter3d": [
           {
            "line": {
             "colorbar": {
              "outlinewidth": 0,
              "ticks": ""
             }
            },
            "marker": {
             "colorbar": {
              "outlinewidth": 0,
              "ticks": ""
             }
            },
            "type": "scatter3d"
           }
          ],
          "scattercarpet": [
           {
            "marker": {
             "colorbar": {
              "outlinewidth": 0,
              "ticks": ""
             }
            },
            "type": "scattercarpet"
           }
          ],
          "scattergeo": [
           {
            "marker": {
             "colorbar": {
              "outlinewidth": 0,
              "ticks": ""
             }
            },
            "type": "scattergeo"
           }
          ],
          "scattergl": [
           {
            "marker": {
             "colorbar": {
              "outlinewidth": 0,
              "ticks": ""
             }
            },
            "type": "scattergl"
           }
          ],
          "scattermapbox": [
           {
            "marker": {
             "colorbar": {
              "outlinewidth": 0,
              "ticks": ""
             }
            },
            "type": "scattermapbox"
           }
          ],
          "scatterpolar": [
           {
            "marker": {
             "colorbar": {
              "outlinewidth": 0,
              "ticks": ""
             }
            },
            "type": "scatterpolar"
           }
          ],
          "scatterpolargl": [
           {
            "marker": {
             "colorbar": {
              "outlinewidth": 0,
              "ticks": ""
             }
            },
            "type": "scatterpolargl"
           }
          ],
          "scatterternary": [
           {
            "marker": {
             "colorbar": {
              "outlinewidth": 0,
              "ticks": ""
             }
            },
            "type": "scatterternary"
           }
          ],
          "surface": [
           {
            "colorbar": {
             "outlinewidth": 0,
             "ticks": ""
            },
            "colorscale": [
             [
              0,
              "#0d0887"
             ],
             [
              0.1111111111111111,
              "#46039f"
             ],
             [
              0.2222222222222222,
              "#7201a8"
             ],
             [
              0.3333333333333333,
              "#9c179e"
             ],
             [
              0.4444444444444444,
              "#bd3786"
             ],
             [
              0.5555555555555556,
              "#d8576b"
             ],
             [
              0.6666666666666666,
              "#ed7953"
             ],
             [
              0.7777777777777778,
              "#fb9f3a"
             ],
             [
              0.8888888888888888,
              "#fdca26"
             ],
             [
              1,
              "#f0f921"
             ]
            ],
            "type": "surface"
           }
          ],
          "table": [
           {
            "cells": {
             "fill": {
              "color": "#EBF0F8"
             },
             "line": {
              "color": "white"
             }
            },
            "header": {
             "fill": {
              "color": "#C8D4E3"
             },
             "line": {
              "color": "white"
             }
            },
            "type": "table"
           }
          ]
         },
         "layout": {
          "annotationdefaults": {
           "arrowcolor": "#2a3f5f",
           "arrowhead": 0,
           "arrowwidth": 1
          },
          "coloraxis": {
           "colorbar": {
            "outlinewidth": 0,
            "ticks": ""
           }
          },
          "colorscale": {
           "diverging": [
            [
             0,
             "#8e0152"
            ],
            [
             0.1,
             "#c51b7d"
            ],
            [
             0.2,
             "#de77ae"
            ],
            [
             0.3,
             "#f1b6da"
            ],
            [
             0.4,
             "#fde0ef"
            ],
            [
             0.5,
             "#f7f7f7"
            ],
            [
             0.6,
             "#e6f5d0"
            ],
            [
             0.7,
             "#b8e186"
            ],
            [
             0.8,
             "#7fbc41"
            ],
            [
             0.9,
             "#4d9221"
            ],
            [
             1,
             "#276419"
            ]
           ],
           "sequential": [
            [
             0,
             "#0d0887"
            ],
            [
             0.1111111111111111,
             "#46039f"
            ],
            [
             0.2222222222222222,
             "#7201a8"
            ],
            [
             0.3333333333333333,
             "#9c179e"
            ],
            [
             0.4444444444444444,
             "#bd3786"
            ],
            [
             0.5555555555555556,
             "#d8576b"
            ],
            [
             0.6666666666666666,
             "#ed7953"
            ],
            [
             0.7777777777777778,
             "#fb9f3a"
            ],
            [
             0.8888888888888888,
             "#fdca26"
            ],
            [
             1,
             "#f0f921"
            ]
           ],
           "sequentialminus": [
            [
             0,
             "#0d0887"
            ],
            [
             0.1111111111111111,
             "#46039f"
            ],
            [
             0.2222222222222222,
             "#7201a8"
            ],
            [
             0.3333333333333333,
             "#9c179e"
            ],
            [
             0.4444444444444444,
             "#bd3786"
            ],
            [
             0.5555555555555556,
             "#d8576b"
            ],
            [
             0.6666666666666666,
             "#ed7953"
            ],
            [
             0.7777777777777778,
             "#fb9f3a"
            ],
            [
             0.8888888888888888,
             "#fdca26"
            ],
            [
             1,
             "#f0f921"
            ]
           ]
          },
          "colorway": [
           "#636efa",
           "#EF553B",
           "#00cc96",
           "#ab63fa",
           "#FFA15A",
           "#19d3f3",
           "#FF6692",
           "#B6E880",
           "#FF97FF",
           "#FECB52"
          ],
          "font": {
           "color": "#2a3f5f"
          },
          "geo": {
           "bgcolor": "white",
           "lakecolor": "white",
           "landcolor": "#E5ECF6",
           "showlakes": true,
           "showland": true,
           "subunitcolor": "white"
          },
          "hoverlabel": {
           "align": "left"
          },
          "hovermode": "closest",
          "mapbox": {
           "style": "light"
          },
          "paper_bgcolor": "white",
          "plot_bgcolor": "#E5ECF6",
          "polar": {
           "angularaxis": {
            "gridcolor": "white",
            "linecolor": "white",
            "ticks": ""
           },
           "bgcolor": "#E5ECF6",
           "radialaxis": {
            "gridcolor": "white",
            "linecolor": "white",
            "ticks": ""
           }
          },
          "scene": {
           "xaxis": {
            "backgroundcolor": "#E5ECF6",
            "gridcolor": "white",
            "gridwidth": 2,
            "linecolor": "white",
            "showbackground": true,
            "ticks": "",
            "zerolinecolor": "white"
           },
           "yaxis": {
            "backgroundcolor": "#E5ECF6",
            "gridcolor": "white",
            "gridwidth": 2,
            "linecolor": "white",
            "showbackground": true,
            "ticks": "",
            "zerolinecolor": "white"
           },
           "zaxis": {
            "backgroundcolor": "#E5ECF6",
            "gridcolor": "white",
            "gridwidth": 2,
            "linecolor": "white",
            "showbackground": true,
            "ticks": "",
            "zerolinecolor": "white"
           }
          },
          "shapedefaults": {
           "line": {
            "color": "#2a3f5f"
           }
          },
          "ternary": {
           "aaxis": {
            "gridcolor": "white",
            "linecolor": "white",
            "ticks": ""
           },
           "baxis": {
            "gridcolor": "white",
            "linecolor": "white",
            "ticks": ""
           },
           "bgcolor": "#E5ECF6",
           "caxis": {
            "gridcolor": "white",
            "linecolor": "white",
            "ticks": ""
           }
          },
          "title": {
           "x": 0.05
          },
          "xaxis": {
           "automargin": true,
           "gridcolor": "white",
           "linecolor": "white",
           "ticks": "",
           "title": {
            "standoff": 15
           },
           "zerolinecolor": "white",
           "zerolinewidth": 2
          },
          "yaxis": {
           "automargin": true,
           "gridcolor": "white",
           "linecolor": "white",
           "ticks": "",
           "title": {
            "standoff": 15
           },
           "zerolinecolor": "white",
           "zerolinewidth": 2
          }
         }
        },
        "title": {
         "text": "Histogram of Neural Network Normal Initiated Strikes",
         "x": 0.5,
         "xanchor": "center",
         "y": 0.96,
         "yanchor": "top"
        },
        "width": 1000,
        "xaxis": {
         "anchor": "y",
         "domain": [
          0,
          0.45
         ],
         "range": [
          68,
          69
         ],
         "showgrid": false,
         "tickangle": 30
        },
        "xaxis10": {
         "anchor": "y10",
         "domain": [
          0.55,
          1
         ],
         "range": [
          119,
          121
         ],
         "showgrid": false,
         "tickangle": 30
        },
        "xaxis2": {
         "anchor": "y2",
         "domain": [
          0.55,
          1
         ],
         "range": [
          68,
          69
         ],
         "showgrid": false,
         "tickangle": 30
        },
        "xaxis3": {
         "anchor": "y3",
         "domain": [
          0,
          0.45
         ],
         "range": [
          83,
          86
         ],
         "showgrid": false,
         "tickangle": 30
        },
        "xaxis4": {
         "anchor": "y4",
         "domain": [
          0.55,
          1
         ],
         "range": [
          83,
          86
         ],
         "showgrid": false,
         "tickangle": 30
        },
        "xaxis5": {
         "anchor": "y5",
         "domain": [
          0,
          0.45
         ],
         "range": [
          93,
          96
         ],
         "showgrid": false,
         "tickangle": 30
        },
        "xaxis6": {
         "anchor": "y6",
         "domain": [
          0.55,
          1
         ],
         "range": [
          93,
          96
         ],
         "showgrid": false,
         "tickangle": 30
        },
        "xaxis7": {
         "anchor": "y7",
         "domain": [
          0,
          0.45
         ],
         "range": [
          104,
          107
         ],
         "showgrid": false,
         "tickangle": 30
        },
        "xaxis8": {
         "anchor": "y8",
         "domain": [
          0.55,
          1
         ],
         "range": [
          104,
          107
         ],
         "showgrid": false,
         "tickangle": 30
        },
        "xaxis9": {
         "anchor": "y9",
         "domain": [
          0,
          0.45
         ],
         "range": [
          119,
          121
         ],
         "showgrid": false,
         "tickangle": 30
        },
        "yaxis": {
         "anchor": "x",
         "domain": [
          0.88,
          1
         ],
         "showgrid": false,
         "title": {
          "text": "Strike 1"
         }
        },
        "yaxis10": {
         "anchor": "x10",
         "domain": [
          0,
          0.12
         ],
         "showgrid": false
        },
        "yaxis2": {
         "anchor": "x2",
         "domain": [
          0.88,
          1
         ],
         "showgrid": false
        },
        "yaxis3": {
         "anchor": "x3",
         "domain": [
          0.66,
          0.78
         ],
         "showgrid": false,
         "title": {
          "text": "Strike 2"
         }
        },
        "yaxis4": {
         "anchor": "x4",
         "domain": [
          0.66,
          0.78
         ],
         "showgrid": false
        },
        "yaxis5": {
         "anchor": "x5",
         "domain": [
          0.44,
          0.56
         ],
         "showgrid": false,
         "title": {
          "text": "Strike 3"
         }
        },
        "yaxis6": {
         "anchor": "x6",
         "domain": [
          0.44,
          0.56
         ],
         "showgrid": false
        },
        "yaxis7": {
         "anchor": "x7",
         "domain": [
          0.22,
          0.33999999999999997
         ],
         "showgrid": false,
         "title": {
          "text": "Strike 4"
         }
        },
        "yaxis8": {
         "anchor": "x8",
         "domain": [
          0.22,
          0.33999999999999997
         ],
         "showgrid": false
        },
        "yaxis9": {
         "anchor": "x9",
         "domain": [
          0,
          0.12
         ],
         "showgrid": false,
         "title": {
          "text": "Strike 5"
         }
        }
       }
      },
      "text/html": [
       "<div>                            <div id=\"1a1cb7bc-3679-412f-814f-807ec2cef119\" class=\"plotly-graph-div\" style=\"height:1000px; width:1000px;\"></div>            <script type=\"text/javascript\">                require([\"plotly\"], function(Plotly) {                    window.PLOTLYENV=window.PLOTLYENV || {};                                    if (document.getElementById(\"1a1cb7bc-3679-412f-814f-807ec2cef119\")) {                    Plotly.newPlot(                        \"1a1cb7bc-3679-412f-814f-807ec2cef119\",                        [{\"name\": \"Strike 1\", \"type\": \"histogram\", \"x\": [68.939, 68.33736999999999, 68.54326, 68.3053, 68.82652, 68.44337, 68.46207, 68.08838, 68.6147, 68.62144, 68.37996, 68.415054, 68.57941, 67.863014, 68.412384, 68.44202, 68.36371, 68.4953, 68.6328, 69.068535, 68.80802, 68.407555, 68.3308, 68.42775, 68.44615, 68.55856, 68.38008, 68.42724, 68.57579, 66.40215, 69.366104, 68.6168, 68.16067, 67.53413, 69.22624, 67.87827, 68.43122, 69.19107, 68.60413, 68.77077, 66.25828, 68.58836, 68.16026, 68.7127, 68.58803, 68.44457, 68.46373, 68.60784, 68.80819, 68.72822, 69.11568, 68.37399, 68.35133, 68.54557, 68.48961, 68.48354, 68.635635, 68.71868, 68.41134, 68.5868, 68.63958000000001, 68.56676, 68.58337399999999, 68.43434, 68.65982, 68.21915, 68.49006, 68.968216, 68.43291500000001, 68.6619, 68.45654, 68.55337, 68.50501, 68.66127, 69.3585, 68.40858, 68.50804000000001, 68.51585, 67.36819, 68.5245, 68.443474, 68.468956, 68.02589, 68.028336, 68.5743, 68.875015, 68.443535, 68.50188, 69.48368, 66.02586, 68.45246, 68.14627, 68.047676, 68.510284, 68.41672, 68.660965, 68.78851, 69.30156, 68.88292, 68.553246], \"xaxis\": \"x\", \"xbins\": {\"end\": 69, \"size\": 0.2, \"start\": 68}, \"yaxis\": \"y\"}, {\"name\": \"Strike 2\", \"type\": \"histogram\", \"x\": [85.08556999999999, 84.28603000000001, 84.683876, 83.94068, 84.97539, 84.299706, 84.36281, 83.16487, 84.71600000000001, 84.75299999999999, 84.07046, 84.19343, 84.32178499999999, 83.64106, 84.335075, 84.301704, 84.08178000000001, 84.60654, 84.43030999999999, 85.46713000000001, 84.95943, 84.137474, 84.256035, 84.3064, 84.381424, 84.6946, 84.10526, 84.39837, 84.36463, 80.49712, 85.848236, 84.75511, 83.997955, 82.91391999999999, 85.65802, 83.63695, 84.470474, 85.56886, 84.534325, 84.9089, 79.910545, 84.242455, 83.754196, 84.59268, 84.72336999999999, 84.37688399999999, 84.483315, 84.74139, 84.96013, 84.69775, 85.6748, 84.084335, 84.222084, 84.69545, 84.59136, 84.60076, 84.49648, 84.85552, 84.332825, 84.708496, 84.592125, 84.71493000000001, 84.72031, 84.38353000000001, 84.79431, 83.88337, 84.13198, 85.12063, 84.05611, 84.5043, 84.186325, 84.6995, 84.35015, 84.81005, 85.95879000000001, 84.3101, 84.50515, 84.620605, 82.583885, 84.63163, 83.99753, 84.36142, 83.78998, 83.82725, 84.71368000000001, 85.021385, 84.35191999999999, 84.49467, 85.9552, 79.799576, 84.39135999999999, 83.70169, 83.82146999999999, 84.62463000000001, 84.26796999999999, 84.77507, 84.94263000000001, 85.78259, 85.02821, 84.49700000000001], \"xaxis\": \"x3\", \"xbins\": {\"end\": 86, \"size\": 0.25, \"start\": 83}, \"yaxis\": \"y3\"}, {\"name\": \"Strike 3\", \"type\": \"histogram\", \"x\": [95.65573, 94.87143, 95.44037, 94.350235, 95.60096, 94.77020999999999, 94.87745, 93.41604, 95.444115, 95.495026, 94.42877, 94.603714, 94.63056999999999, 94.2589, 94.88031, 94.770065, 94.48544, 95.40171, 94.739914, 96.00352, 95.58449, 94.500374, 94.839874, 94.80001999999999, 94.96708000000001, 95.45913, 94.47728000000001, 95.05254000000001, 94.674355, 91.41015, 96.19296999999999, 95.49653, 94.60011999999999, 93.61975, 96.09739, 94.23655, 95.18901, 95.96611, 95.040146, 95.53741, 90.93643, 94.44075, 94.21611, 94.94981, 95.49665, 94.9706, 95.13458, 95.49557, 95.585976, 95.141914, 96.288795, 94.46199, 94.73846400000001, 95.4666, 95.40585, 95.41627, 94.92834, 95.54245999999999, 94.87555, 95.453766, 95.082245, 95.47499, 95.47569, 94.98205, 95.49070999999999, 94.35545, 94.380066, 95.67205, 94.34466, 94.827286, 94.518524, 95.47702, 94.783585, 95.52645, 96.57223499999999, 94.84088, 95.12654, 95.43236, 93.32181, 95.43135, 94.22036999999999, 94.86069, 94.39008000000001, 94.470314, 95.48248000000001, 95.64513000000001, 94.91360999999999, 95.10771, 96.22632, 90.91618000000001, 94.974335, 94.14268, 94.408485, 95.4278, 94.7362, 95.482475, 95.58079000000001, 96.26396, 95.65509, 95.02085], \"xaxis\": \"x5\", \"xbins\": {\"end\": 96, \"size\": 0.25, \"start\": 93}, \"yaxis\": \"y5\"}, {\"name\": \"Strike 4\", \"type\": \"histogram\", \"x\": [106.33008600000001, 105.66350600000001, 106.22233999999999, 105.21972, 106.31894, 105.63257, 105.67188, 104.5764, 106.22961399999998, 106.24638999999999, 105.24771000000001, 105.39034, 105.43431000000001, 105.19296999999999, 105.68249499999999, 105.62272, 105.30116000000001, 106.238, 105.52038999999999, 106.49512, 106.30758999999999, 105.30578999999999, 105.67653, 105.66051999999999, 105.76256599999999, 106.26006000000001, 105.26451000000002, 105.8762, 105.42623999999999, 103.48818, 106.61211999999999, 106.260475, 105.45857, 104.86124, 106.568924, 105.18418999999999, 106.04568, 106.4708, 105.770325, 106.24943999999999, 103.133224, 105.21301000000001, 105.19748, 105.67513999999998, 106.26791399999999, 105.72968999999999, 105.94991, 106.25672, 106.30289499999999, 105.86590600000001, 106.78249, 105.24841, 105.62195600000001, 106.235565, 106.22583999999999, 106.2504, 105.68765, 106.26467, 105.675674, 106.249954, 105.8116, 106.28426, 106.24492, 105.75362, 106.24281, 105.21773999999999, 105.21609, 106.33743999999999, 105.19521, 105.62806, 105.29097, 106.24290500000001, 105.63011000000002, 106.26926399999999, 107.00058999999999, 105.66958999999999, 105.9443, 106.227455, 104.63571, 106.23947, 105.14796000000001, 105.70015, 105.25693999999999, 105.34608500000002, 106.24826999999999, 106.34733999999999, 105.69767, 105.90587, 106.62286999999999, 103.111855, 105.72403999999999, 105.155075, 105.228195, 106.25086999999999, 105.58903500000001, 106.25095, 106.31301, 106.71918500000001, 106.34693999999999, 105.759514], \"xaxis\": \"x7\", \"xbins\": {\"end\": 107, \"size\": 0.25, \"start\": 104}, \"yaxis\": \"y7\"}, {\"name\": \"Strike 5\", \"type\": \"histogram\", \"x\": [120.5168, 119.965515, 120.49753, 119.65256000000001, 120.51597, 119.98047, 119.95883, 119.3751, 120.45245, 120.45815, 119.68287, 119.7528, 119.8684, 119.631325, 119.98317, 119.98418400000001, 119.70378000000001, 120.47478000000001, 119.927536, 120.587746, 120.4909, 119.71211000000001, 119.9753, 119.973076, 120.12468999999999, 120.49373999999999, 119.69216000000002, 120.30461000000001, 119.84676999999999, 118.4167, 120.62240600000001, 120.49051999999999, 119.88486, 119.50954399999999, 120.626724, 119.64738999999999, 120.39312, 120.52269, 120.01393999999999, 120.420006, 118.22677, 119.637726, 119.667076, 119.981094, 120.4702, 120.00556, 120.31165, 120.43224, 120.50716000000001, 120.21988999999999, 120.68195, 119.6359, 119.9707, 120.43923000000001, 120.452774, 120.46971, 119.9949, 120.4453, 119.99135, 120.46896000000001, 120.064674, 120.44169, 120.42538, 119.99951999999999, 120.44318, 119.657005, 119.683815, 120.52548999999999, 119.65568, 119.96883400000002, 119.691696, 120.4745, 119.96981000000001, 120.48913600000002, 120.93826000000001, 119.98246999999999, 120.296646, 120.4476, 119.41366599999999, 120.48175, 119.664276, 120.01281999999999, 119.66498999999999, 119.79878000000001, 120.44946000000002, 120.54526499999999, 120.02101, 120.29516000000001, 120.62685400000001, 118.26092, 120.00197, 119.63423, 119.64609499999999, 120.491196, 119.9548, 120.455345, 120.51698999999999, 120.6452, 120.535446, 120.01308999999999], \"xaxis\": \"x9\", \"xbins\": {\"end\": 121, \"size\": 0.25, \"start\": 119}, \"yaxis\": \"y9\"}, {\"name\": \"Strike 1\", \"type\": \"histogram\", \"x\": [68.7169, 68.71694000000001, 68.71803, 68.71761, 68.71755, 68.716675, 68.71766, 68.71758, 68.71668000000001, 68.718414, 68.71647, 68.71688, 68.716736, 68.717545, 68.716934, 68.716774, 68.71683, 68.71803, 68.71809, 68.71701999999999, 68.716835, 68.716515, 68.71683, 68.71845, 68.71755, 68.71754, 68.71686600000001, 68.717545, 68.71754, 68.71805, 68.71666, 68.71759, 68.7175, 68.71668000000001, 68.71823, 68.7181, 68.716934, 68.71693, 68.71804, 68.718376, 68.71755, 68.7184, 68.71680500000001, 68.71689599999999, 68.717804, 68.71826999999999, 68.71806, 68.71811, 68.716835, 68.717995, 68.71669, 68.71751400000001, 68.71805, 68.71661, 68.71767, 68.71755999999999, 68.71689599999999, 68.71682, 68.71813, 68.71754, 68.71687, 68.71806, 68.72036, 68.718025, 68.71807, 68.7168, 68.71694000000001, 68.71758, 68.71752, 68.71754, 68.716934, 68.717545, 68.71696999999999, 68.71879, 68.71800999999999, 68.71831, 68.716705, 68.718124, 68.71754, 68.71759, 68.718094, 68.71757, 68.71755, 68.71784, 68.71692, 68.716774, 68.71802, 68.71699, 68.71808, 68.71689, 68.71811, 68.71755999999999, 68.71689599999999, 68.71764, 68.71679, 68.71763, 68.71678, 68.716995, 68.717545, 68.71672], \"xaxis\": \"x2\", \"xbins\": {\"end\": 69, \"size\": 0.2, \"start\": 68}, \"yaxis\": \"y2\"}, {\"name\": \"Strike 2\", \"type\": \"histogram\", \"x\": [84.84224, 84.84225500000001, 84.845505, 84.84491, 84.84488, 84.84206, 84.84487, 84.84492, 84.84210999999999, 84.84561, 84.84198, 84.842285, 84.842125, 84.84487, 84.84226, 84.84221, 84.8422, 84.8455, 84.84554, 84.8422, 84.84227, 84.84196999999999, 84.84222, 84.84567, 84.84493, 84.84489, 84.842285, 84.84488, 84.844864, 84.845505, 84.84209399999999, 84.8449, 84.84485, 84.84206999999999, 84.84563399999999, 84.84558, 84.8423, 84.84226, 84.84551, 84.84562, 84.8449, 84.84561, 84.84222, 84.84226, 84.84509, 84.84572, 84.84552, 84.84554, 84.84227, 84.845474, 84.84209399999999, 84.844864, 84.84552, 84.84196, 84.84493, 84.84483, 84.842285, 84.84223, 84.84557, 84.84486, 84.842285, 84.84552, 84.84801999999999, 84.8455, 84.84555, 84.8422, 84.84228, 84.844894, 84.84485, 84.84488, 84.84232, 84.84485, 84.84233, 84.84591, 84.84553000000001, 84.845764, 84.84204, 84.84555999999999, 84.844864, 84.84491, 84.845535, 84.844894, 84.84485, 84.845146, 84.84223, 84.84218, 84.845505, 84.842316, 84.84551, 84.84225500000001, 84.84555999999999, 84.84487, 84.84222, 84.84492, 84.84223, 84.84489, 84.84209399999999, 84.842415, 84.84487, 84.84210999999999], \"xaxis\": \"x4\", \"xbins\": {\"end\": 86, \"size\": 0.25, \"start\": 83}, \"yaxis\": \"y4\"}, {\"name\": \"Strike 3\", \"type\": \"histogram\", \"x\": [95.51290999999999, 95.512924, 95.51515, 95.5147, 95.5147, 95.51259, 95.51468, 95.51384, 95.5129, 95.51521, 95.512695, 95.51301600000001, 95.51265, 95.5147, 95.51293000000001, 95.51283000000001, 95.512924, 95.51512, 95.51635999999999, 95.51267, 95.51289, 95.51256, 95.51295, 95.51518, 95.51479, 95.51473, 95.51297, 95.51472, 95.51468, 95.51514, 95.51273, 95.514725, 95.51471, 95.51269, 95.51519, 95.51521, 95.51298, 95.51295, 95.516304, 95.51519, 95.51476, 95.51515, 95.512955, 95.51298, 95.51482, 95.51649499999999, 95.51515, 95.51631, 95.51301, 95.51515, 95.5127, 95.51472, 95.51517, 95.512405, 95.5148, 95.51469399999999, 95.51299999999999, 95.51298, 95.51518, 95.5147, 95.512985, 95.51633000000001, 95.51689, 95.51514399999999, 95.5152, 95.51281, 95.512955, 95.51472, 95.51469399999999, 95.51473, 95.51303, 95.51465999999999, 95.51301600000001, 95.51635, 95.51638, 95.51652, 95.51250999999999, 95.51638, 95.514725, 95.51474, 95.51633000000001, 95.51475, 95.51465999999999, 95.51483, 95.51290999999999, 95.51281, 95.51517, 95.512985, 95.51516, 95.51298, 95.51518, 95.51472, 95.512886, 95.51477, 95.51288000000001, 95.51476, 95.51254, 95.51303, 95.51469399999999, 95.512695], \"xaxis\": \"x6\", \"xbins\": {\"end\": 96, \"size\": 0.25, \"start\": 93}, \"yaxis\": \"y6\"}, {\"name\": \"Strike 4\", \"type\": \"histogram\", \"x\": [106.24871, 106.248726, 106.24915, 106.24915, 106.24911499999999, 106.24824, 106.24911499999999, 106.24913000000001, 106.24875, 106.24976000000001, 106.24797, 106.24881, 106.24831, 106.249146, 106.24871, 106.24848999999999, 106.24871, 106.24911499999999, 106.24925, 106.24793999999999, 106.24856000000001, 106.24826000000002, 106.24873000000001, 106.2492, 106.24916999999999, 106.24916999999999, 106.24871, 106.249146, 106.24911000000002, 106.24911000000002, 106.24797, 106.249146, 106.24913000000001, 106.24793999999999, 106.24915, 106.24918999999998, 106.24875, 106.24873000000001, 106.249146, 106.24923999999999, 106.2492, 106.249176, 106.24875, 106.24875, 106.24908400000001, 106.250046, 106.24911000000002, 106.249214, 106.248795, 106.249146, 106.24793999999999, 106.24915, 106.249146, 106.24805, 106.2492, 106.249146, 106.248795, 106.24875, 106.249146, 106.24911499999999, 106.24875, 106.24922, 106.24881, 106.24913000000001, 106.24918999999998, 106.24848999999999, 106.248764, 106.249146, 106.24911499999999, 106.24916999999999, 106.248795, 106.24909, 106.24878999999999, 106.249146, 106.25, 106.250046, 106.24811000000001, 106.249275, 106.249146, 106.24916999999999, 106.2492, 106.249176, 106.24911499999999, 106.24911499999999, 106.24868000000001, 106.248474, 106.24916999999999, 106.248764, 106.24916999999999, 106.24877, 106.24918999999998, 106.24913000000001, 106.24868000000001, 106.249214, 106.24856000000001, 106.24918999999998, 106.24813, 106.24826000000002, 106.24913000000001, 106.24793999999999], \"xaxis\": \"x8\", \"xbins\": {\"end\": 107, \"size\": 0.25, \"start\": 104}, \"yaxis\": \"y8\"}, {\"name\": \"Strike 5\", \"type\": \"histogram\", \"x\": [120.44592, 120.44592, 120.446205, 120.446304, 120.44631000000001, 120.44593, 120.446205, 120.44601399999999, 120.44594599999999, 120.44691, 120.44551000000001, 120.44599, 120.446, 120.446335, 120.44594599999999, 120.44588999999999, 120.44591000000001, 120.44618, 120.44627, 120.44548999999999, 120.44592, 120.44599, 120.44598, 120.44616, 120.446266, 120.44637, 120.44596999999999, 120.44633, 120.446266, 120.44614399999999, 120.44554, 120.44631000000001, 120.44635, 120.4455, 120.44622, 120.44622, 120.44595, 120.44592, 120.44625, 120.44622, 120.446335, 120.44613999999999, 120.44593, 120.44595, 120.446266, 120.44736499999999, 120.44617, 120.44627, 120.44601399999999, 120.44618, 120.445526, 120.446335, 120.446205, 120.44585, 120.44628999999999, 120.44628999999999, 120.44596999999999, 120.44596999999999, 120.44618999999999, 120.44631000000001, 120.44595, 120.446304, 120.44591000000001, 120.44618, 120.44622, 120.44591000000001, 120.44596999999999, 120.44631000000001, 120.44633, 120.44635, 120.446, 120.446304, 120.44598, 120.44623999999999, 120.447395, 120.44735, 120.44591000000001, 120.446335, 120.44633, 120.44633, 120.44623999999999, 120.446335, 120.44628999999999, 120.44628999999999, 120.44588999999999, 120.44593, 120.44622, 120.44596999999999, 120.44622, 120.44595, 120.44623999999999, 120.446304, 120.44592, 120.44628999999999, 120.44594599999999, 120.44628999999999, 120.44595, 120.44548999999999, 120.44631000000001, 120.44551000000001], \"xaxis\": \"x10\", \"xbins\": {\"end\": 121, \"size\": 0.25, \"start\": 119}, \"yaxis\": \"y10\"}],                        {\"annotations\": [{\"font\": {\"size\": 19}, \"showarrow\": false, \"text\": \"Strikes - Random Seed\", \"x\": 0.25, \"xanchor\": \"center\", \"xref\": \"paper\", \"y\": 1.0, \"yanchor\": \"bottom\", \"yref\": \"paper\"}, {\"font\": {\"size\": 19}, \"showarrow\": false, \"text\": \"Strikes - Fixed Seed\", \"x\": 0.75, \"xanchor\": \"center\", \"xref\": \"paper\", \"y\": 1.0, \"yanchor\": \"bottom\", \"yref\": \"paper\"}, {\"font\": {\"size\": 19}, \"showarrow\": false, \"text\": \"Strikes - Random Seed\", \"x\": 0.25, \"xanchor\": \"center\", \"xref\": \"paper\", \"y\": 1.0, \"yanchor\": \"bottom\", \"yref\": \"paper\"}, {\"font\": {\"size\": 19}, \"showarrow\": false, \"text\": \"Strikes - Fixed Seed\", \"x\": 0.75, \"xanchor\": \"center\", \"xref\": \"paper\", \"y\": 1.0, \"yanchor\": \"bottom\", \"yref\": \"paper\"}, {\"font\": {\"color\": \"black\", \"size\": 12}, \"showarrow\": false, \"text\": \"Mean: 68.47<br> Std Dev: 0.51\", \"x\": 0.01, \"xanchor\": \"left\", \"xref\": \"paper\", \"y\": 0.999, \"yanchor\": \"top\", \"yref\": \"paper\"}, {\"font\": {\"color\": \"black\", \"size\": 12}, \"showarrow\": false, \"text\": \"Mean: 84.37<br> Std Dev: 0.94\", \"x\": 0.01, \"xanchor\": \"left\", \"xref\": \"paper\", \"y\": 0.78, \"yanchor\": \"top\", \"yref\": \"paper\"}, {\"font\": {\"color\": \"black\", \"size\": 12}, \"showarrow\": false, \"text\": \"Mean: 94.94<br> Std Dev: 0.91\", \"x\": 0.01, \"xanchor\": \"left\", \"xref\": \"paper\", \"y\": 0.56, \"yanchor\": \"top\", \"yref\": \"paper\"}, {\"font\": {\"color\": \"black\", \"size\": 12}, \"showarrow\": false, \"text\": \"Mean: 105.76<br> Std Dev: 0.66\", \"x\": 0.01, \"xanchor\": \"left\", \"xref\": \"paper\", \"y\": 0.34, \"yanchor\": \"top\", \"yref\": \"paper\"}, {\"font\": {\"color\": \"black\", \"size\": 12}, \"showarrow\": false, \"text\": \"Mean: 120.08<br> Std Dev: 0.48\", \"x\": 0.01, \"xanchor\": \"left\", \"xref\": \"paper\", \"y\": 0.12, \"yanchor\": \"top\", \"yref\": \"paper\"}, {\"font\": {\"color\": \"black\", \"size\": 12}, \"showarrow\": false, \"text\": \"Mean: 68.72<br> Std Dev: 0.0\", \"x\": 0.56, \"xanchor\": \"left\", \"xref\": \"paper\", \"y\": 0.999, \"yanchor\": \"top\", \"yref\": \"paper\"}, {\"font\": {\"color\": \"black\", \"size\": 12}, \"showarrow\": false, \"text\": \"Mean: 84.84<br> Std Dev: 0.0\", \"x\": 0.56, \"xanchor\": \"left\", \"xref\": \"paper\", \"y\": 0.78, \"yanchor\": \"top\", \"yref\": \"paper\"}, {\"font\": {\"color\": \"black\", \"size\": 12}, \"showarrow\": false, \"text\": \"Mean: 95.51<br> Std Dev: 0.0\", \"x\": 0.56, \"xanchor\": \"left\", \"xref\": \"paper\", \"y\": 0.56, \"yanchor\": \"top\", \"yref\": \"paper\"}, {\"font\": {\"color\": \"black\", \"size\": 12}, \"showarrow\": false, \"text\": \"Mean: 106.25<br> Std Dev: 0.0\", \"x\": 0.56, \"xanchor\": \"left\", \"xref\": \"paper\", \"y\": 0.34, \"yanchor\": \"top\", \"yref\": \"paper\"}, {\"font\": {\"color\": \"black\", \"size\": 12}, \"showarrow\": false, \"text\": \"Mean: 120.45<br> Std Dev: 0.0\", \"x\": 0.56, \"xanchor\": \"left\", \"xref\": \"paper\", \"y\": 0.12, \"yanchor\": \"top\", \"yref\": \"paper\"}], \"bargap\": 0.05, \"bargroupgap\": 0, \"barmode\": \"overlay\", \"font\": {\"color\": \"black\", \"size\": 18}, \"height\": 1000, \"showlegend\": false, \"template\": {\"data\": {\"bar\": [{\"error_x\": {\"color\": \"#2a3f5f\"}, \"error_y\": {\"color\": \"#2a3f5f\"}, \"marker\": {\"line\": {\"color\": \"#E5ECF6\", \"width\": 0.5}}, \"type\": \"bar\"}], \"barpolar\": [{\"marker\": {\"line\": {\"color\": \"#E5ECF6\", \"width\": 0.5}}, \"type\": \"barpolar\"}], \"carpet\": [{\"aaxis\": {\"endlinecolor\": \"#2a3f5f\", \"gridcolor\": \"white\", \"linecolor\": \"white\", \"minorgridcolor\": \"white\", \"startlinecolor\": \"#2a3f5f\"}, \"baxis\": {\"endlinecolor\": \"#2a3f5f\", \"gridcolor\": \"white\", \"linecolor\": \"white\", \"minorgridcolor\": \"white\", \"startlinecolor\": \"#2a3f5f\"}, \"type\": \"carpet\"}], \"choropleth\": [{\"colorbar\": {\"outlinewidth\": 0, \"ticks\": \"\"}, \"type\": \"choropleth\"}], \"contour\": [{\"colorbar\": {\"outlinewidth\": 0, \"ticks\": \"\"}, \"colorscale\": [[0.0, \"#0d0887\"], [0.1111111111111111, \"#46039f\"], [0.2222222222222222, \"#7201a8\"], [0.3333333333333333, \"#9c179e\"], [0.4444444444444444, \"#bd3786\"], [0.5555555555555556, \"#d8576b\"], [0.6666666666666666, \"#ed7953\"], [0.7777777777777778, \"#fb9f3a\"], [0.8888888888888888, \"#fdca26\"], [1.0, \"#f0f921\"]], \"type\": \"contour\"}], \"contourcarpet\": [{\"colorbar\": {\"outlinewidth\": 0, \"ticks\": \"\"}, \"type\": \"contourcarpet\"}], \"heatmap\": [{\"colorbar\": {\"outlinewidth\": 0, \"ticks\": \"\"}, \"colorscale\": [[0.0, \"#0d0887\"], [0.1111111111111111, \"#46039f\"], [0.2222222222222222, \"#7201a8\"], [0.3333333333333333, \"#9c179e\"], [0.4444444444444444, \"#bd3786\"], [0.5555555555555556, \"#d8576b\"], [0.6666666666666666, \"#ed7953\"], [0.7777777777777778, \"#fb9f3a\"], [0.8888888888888888, \"#fdca26\"], [1.0, \"#f0f921\"]], \"type\": \"heatmap\"}], \"heatmapgl\": [{\"colorbar\": {\"outlinewidth\": 0, \"ticks\": \"\"}, \"colorscale\": [[0.0, \"#0d0887\"], [0.1111111111111111, \"#46039f\"], [0.2222222222222222, \"#7201a8\"], [0.3333333333333333, \"#9c179e\"], [0.4444444444444444, \"#bd3786\"], [0.5555555555555556, \"#d8576b\"], [0.6666666666666666, \"#ed7953\"], [0.7777777777777778, \"#fb9f3a\"], [0.8888888888888888, \"#fdca26\"], [1.0, \"#f0f921\"]], \"type\": \"heatmapgl\"}], \"histogram\": [{\"marker\": {\"colorbar\": {\"outlinewidth\": 0, \"ticks\": \"\"}}, \"type\": \"histogram\"}], \"histogram2d\": [{\"colorbar\": {\"outlinewidth\": 0, \"ticks\": \"\"}, \"colorscale\": [[0.0, \"#0d0887\"], [0.1111111111111111, \"#46039f\"], [0.2222222222222222, \"#7201a8\"], [0.3333333333333333, \"#9c179e\"], [0.4444444444444444, \"#bd3786\"], [0.5555555555555556, \"#d8576b\"], [0.6666666666666666, \"#ed7953\"], [0.7777777777777778, \"#fb9f3a\"], [0.8888888888888888, \"#fdca26\"], [1.0, \"#f0f921\"]], \"type\": \"histogram2d\"}], \"histogram2dcontour\": [{\"colorbar\": {\"outlinewidth\": 0, \"ticks\": \"\"}, \"colorscale\": [[0.0, \"#0d0887\"], [0.1111111111111111, \"#46039f\"], [0.2222222222222222, \"#7201a8\"], [0.3333333333333333, \"#9c179e\"], [0.4444444444444444, \"#bd3786\"], [0.5555555555555556, \"#d8576b\"], [0.6666666666666666, \"#ed7953\"], [0.7777777777777778, \"#fb9f3a\"], [0.8888888888888888, \"#fdca26\"], [1.0, \"#f0f921\"]], \"type\": \"histogram2dcontour\"}], \"mesh3d\": [{\"colorbar\": {\"outlinewidth\": 0, \"ticks\": \"\"}, \"type\": \"mesh3d\"}], \"parcoords\": [{\"line\": {\"colorbar\": {\"outlinewidth\": 0, \"ticks\": \"\"}}, \"type\": \"parcoords\"}], \"pie\": [{\"automargin\": true, \"type\": \"pie\"}], \"scatter\": [{\"marker\": {\"colorbar\": {\"outlinewidth\": 0, \"ticks\": \"\"}}, \"type\": \"scatter\"}], \"scatter3d\": [{\"line\": {\"colorbar\": {\"outlinewidth\": 0, \"ticks\": \"\"}}, \"marker\": {\"colorbar\": {\"outlinewidth\": 0, \"ticks\": \"\"}}, \"type\": \"scatter3d\"}], \"scattercarpet\": [{\"marker\": {\"colorbar\": {\"outlinewidth\": 0, \"ticks\": \"\"}}, \"type\": \"scattercarpet\"}], \"scattergeo\": [{\"marker\": {\"colorbar\": {\"outlinewidth\": 0, \"ticks\": \"\"}}, \"type\": \"scattergeo\"}], \"scattergl\": [{\"marker\": {\"colorbar\": {\"outlinewidth\": 0, \"ticks\": \"\"}}, \"type\": \"scattergl\"}], \"scattermapbox\": [{\"marker\": {\"colorbar\": {\"outlinewidth\": 0, \"ticks\": \"\"}}, \"type\": \"scattermapbox\"}], \"scatterpolar\": [{\"marker\": {\"colorbar\": {\"outlinewidth\": 0, \"ticks\": \"\"}}, \"type\": \"scatterpolar\"}], \"scatterpolargl\": [{\"marker\": {\"colorbar\": {\"outlinewidth\": 0, \"ticks\": \"\"}}, \"type\": \"scatterpolargl\"}], \"scatterternary\": [{\"marker\": {\"colorbar\": {\"outlinewidth\": 0, \"ticks\": \"\"}}, \"type\": \"scatterternary\"}], \"surface\": [{\"colorbar\": {\"outlinewidth\": 0, \"ticks\": \"\"}, \"colorscale\": [[0.0, \"#0d0887\"], [0.1111111111111111, \"#46039f\"], [0.2222222222222222, \"#7201a8\"], [0.3333333333333333, \"#9c179e\"], [0.4444444444444444, \"#bd3786\"], [0.5555555555555556, \"#d8576b\"], [0.6666666666666666, \"#ed7953\"], [0.7777777777777778, \"#fb9f3a\"], [0.8888888888888888, \"#fdca26\"], [1.0, \"#f0f921\"]], \"type\": \"surface\"}], \"table\": [{\"cells\": {\"fill\": {\"color\": \"#EBF0F8\"}, \"line\": {\"color\": \"white\"}}, \"header\": {\"fill\": {\"color\": \"#C8D4E3\"}, \"line\": {\"color\": \"white\"}}, \"type\": \"table\"}]}, \"layout\": {\"annotationdefaults\": {\"arrowcolor\": \"#2a3f5f\", \"arrowhead\": 0, \"arrowwidth\": 1}, \"coloraxis\": {\"colorbar\": {\"outlinewidth\": 0, \"ticks\": \"\"}}, \"colorscale\": {\"diverging\": [[0, \"#8e0152\"], [0.1, \"#c51b7d\"], [0.2, \"#de77ae\"], [0.3, \"#f1b6da\"], [0.4, \"#fde0ef\"], [0.5, \"#f7f7f7\"], [0.6, \"#e6f5d0\"], [0.7, \"#b8e186\"], [0.8, \"#7fbc41\"], [0.9, \"#4d9221\"], [1, \"#276419\"]], \"sequential\": [[0.0, \"#0d0887\"], [0.1111111111111111, \"#46039f\"], [0.2222222222222222, \"#7201a8\"], [0.3333333333333333, \"#9c179e\"], [0.4444444444444444, \"#bd3786\"], [0.5555555555555556, \"#d8576b\"], [0.6666666666666666, \"#ed7953\"], [0.7777777777777778, \"#fb9f3a\"], [0.8888888888888888, \"#fdca26\"], [1.0, \"#f0f921\"]], \"sequentialminus\": [[0.0, \"#0d0887\"], [0.1111111111111111, \"#46039f\"], [0.2222222222222222, \"#7201a8\"], [0.3333333333333333, \"#9c179e\"], [0.4444444444444444, \"#bd3786\"], [0.5555555555555556, \"#d8576b\"], [0.6666666666666666, \"#ed7953\"], [0.7777777777777778, \"#fb9f3a\"], [0.8888888888888888, \"#fdca26\"], [1.0, \"#f0f921\"]]}, \"colorway\": [\"#636efa\", \"#EF553B\", \"#00cc96\", \"#ab63fa\", \"#FFA15A\", \"#19d3f3\", \"#FF6692\", \"#B6E880\", \"#FF97FF\", \"#FECB52\"], \"font\": {\"color\": \"#2a3f5f\"}, \"geo\": {\"bgcolor\": \"white\", \"lakecolor\": \"white\", \"landcolor\": \"#E5ECF6\", \"showlakes\": true, \"showland\": true, \"subunitcolor\": \"white\"}, \"hoverlabel\": {\"align\": \"left\"}, \"hovermode\": \"closest\", \"mapbox\": {\"style\": \"light\"}, \"paper_bgcolor\": \"white\", \"plot_bgcolor\": \"#E5ECF6\", \"polar\": {\"angularaxis\": {\"gridcolor\": \"white\", \"linecolor\": \"white\", \"ticks\": \"\"}, \"bgcolor\": \"#E5ECF6\", \"radialaxis\": {\"gridcolor\": \"white\", \"linecolor\": \"white\", \"ticks\": \"\"}}, \"scene\": {\"xaxis\": {\"backgroundcolor\": \"#E5ECF6\", \"gridcolor\": \"white\", \"gridwidth\": 2, \"linecolor\": \"white\", \"showbackground\": true, \"ticks\": \"\", \"zerolinecolor\": \"white\"}, \"yaxis\": {\"backgroundcolor\": \"#E5ECF6\", \"gridcolor\": \"white\", \"gridwidth\": 2, \"linecolor\": \"white\", \"showbackground\": true, \"ticks\": \"\", \"zerolinecolor\": \"white\"}, \"zaxis\": {\"backgroundcolor\": \"#E5ECF6\", \"gridcolor\": \"white\", \"gridwidth\": 2, \"linecolor\": \"white\", \"showbackground\": true, \"ticks\": \"\", \"zerolinecolor\": \"white\"}}, \"shapedefaults\": {\"line\": {\"color\": \"#2a3f5f\"}}, \"ternary\": {\"aaxis\": {\"gridcolor\": \"white\", \"linecolor\": \"white\", \"ticks\": \"\"}, \"baxis\": {\"gridcolor\": \"white\", \"linecolor\": \"white\", \"ticks\": \"\"}, \"bgcolor\": \"#E5ECF6\", \"caxis\": {\"gridcolor\": \"white\", \"linecolor\": \"white\", \"ticks\": \"\"}}, \"title\": {\"x\": 0.05}, \"xaxis\": {\"automargin\": true, \"gridcolor\": \"white\", \"linecolor\": \"white\", \"ticks\": \"\", \"title\": {\"standoff\": 15}, \"zerolinecolor\": \"white\", \"zerolinewidth\": 2}, \"yaxis\": {\"automargin\": true, \"gridcolor\": \"white\", \"linecolor\": \"white\", \"ticks\": \"\", \"title\": {\"standoff\": 15}, \"zerolinecolor\": \"white\", \"zerolinewidth\": 2}}}, \"title\": {\"text\": \"Histogram of Neural Network Normal Initiated Strikes\", \"x\": 0.5, \"xanchor\": \"center\", \"y\": 0.96, \"yanchor\": \"top\"}, \"width\": 1000, \"xaxis\": {\"anchor\": \"y\", \"domain\": [0.0, 0.45], \"range\": [68, 69], \"showgrid\": false, \"tickangle\": 30}, \"xaxis10\": {\"anchor\": \"y10\", \"domain\": [0.55, 1.0], \"range\": [119, 121], \"showgrid\": false, \"tickangle\": 30}, \"xaxis2\": {\"anchor\": \"y2\", \"domain\": [0.55, 1.0], \"range\": [68, 69], \"showgrid\": false, \"tickangle\": 30}, \"xaxis3\": {\"anchor\": \"y3\", \"domain\": [0.0, 0.45], \"range\": [83, 86], \"showgrid\": false, \"tickangle\": 30}, \"xaxis4\": {\"anchor\": \"y4\", \"domain\": [0.55, 1.0], \"range\": [83, 86], \"showgrid\": false, \"tickangle\": 30}, \"xaxis5\": {\"anchor\": \"y5\", \"domain\": [0.0, 0.45], \"range\": [93, 96], \"showgrid\": false, \"tickangle\": 30}, \"xaxis6\": {\"anchor\": \"y6\", \"domain\": [0.55, 1.0], \"range\": [93, 96], \"showgrid\": false, \"tickangle\": 30}, \"xaxis7\": {\"anchor\": \"y7\", \"domain\": [0.0, 0.45], \"range\": [104, 107], \"showgrid\": false, \"tickangle\": 30}, \"xaxis8\": {\"anchor\": \"y8\", \"domain\": [0.55, 1.0], \"range\": [104, 107], \"showgrid\": false, \"tickangle\": 30}, \"xaxis9\": {\"anchor\": \"y9\", \"domain\": [0.0, 0.45], \"range\": [119, 121], \"showgrid\": false, \"tickangle\": 30}, \"yaxis\": {\"anchor\": \"x\", \"domain\": [0.88, 1.0], \"showgrid\": false, \"title\": {\"text\": \"Strike 1\"}}, \"yaxis10\": {\"anchor\": \"x10\", \"domain\": [0.0, 0.12], \"showgrid\": false}, \"yaxis2\": {\"anchor\": \"x2\", \"domain\": [0.88, 1.0], \"showgrid\": false}, \"yaxis3\": {\"anchor\": \"x3\", \"domain\": [0.66, 0.78], \"showgrid\": false, \"title\": {\"text\": \"Strike 2\"}}, \"yaxis4\": {\"anchor\": \"x4\", \"domain\": [0.66, 0.78], \"showgrid\": false}, \"yaxis5\": {\"anchor\": \"x5\", \"domain\": [0.44, 0.56], \"showgrid\": false, \"title\": {\"text\": \"Strike 3\"}}, \"yaxis6\": {\"anchor\": \"x6\", \"domain\": [0.44, 0.56], \"showgrid\": false}, \"yaxis7\": {\"anchor\": \"x7\", \"domain\": [0.22, 0.33999999999999997], \"showgrid\": false, \"title\": {\"text\": \"Strike 4\"}}, \"yaxis8\": {\"anchor\": \"x8\", \"domain\": [0.22, 0.33999999999999997], \"showgrid\": false}, \"yaxis9\": {\"anchor\": \"x9\", \"domain\": [0.0, 0.12], \"showgrid\": false, \"title\": {\"text\": \"Strike 5\"}}},                        {\"responsive\": true}                    ).then(function(){\n",
       "                            \n",
       "var gd = document.getElementById('1a1cb7bc-3679-412f-814f-807ec2cef119');\n",
       "var x = new MutationObserver(function (mutations, observer) {{\n",
       "        var display = window.getComputedStyle(gd).display;\n",
       "        if (!display || display === 'none') {{\n",
       "            console.log([gd, 'removed!']);\n",
       "            Plotly.purge(gd);\n",
       "            observer.disconnect();\n",
       "        }}\n",
       "}});\n",
       "\n",
       "// Listen for the removal of the full notebook cells\n",
       "var notebookContainer = gd.closest('#notebook-container');\n",
       "if (notebookContainer) {{\n",
       "    x.observe(notebookContainer, {childList: true});\n",
       "}}\n",
       "\n",
       "// Listen for the clearing of the current output cell\n",
       "var outputEl = gd.closest('.output');\n",
       "if (outputEl) {{\n",
       "    x.observe(outputEl, {childList: true});\n",
       "}}\n",
       "\n",
       "                        })                };                });            </script>        </div>"
      ]
     },
     "metadata": {},
     "output_type": "display_data"
    }
   ],
   "source": [
    "\n",
    "no_of_options=5\n",
    "no_of_paths = 5000\n",
    "no_of_paths_test = 5000\n",
    "\n",
    "# Total number of runs neural network static hedge created\n",
    "no_of_runs = 100\n",
    "\n",
    "file_ident1 = \"constr_normal\"\n",
    "file_ident2 = \"constr_nomal_fixSeed\"\n",
    "df = pd.read_csv('Stability Analysis - Outputs/Dataframes Optimized/df_nn_hedge_params_' + file_ident1 + '_sim' + str(no_of_paths_test) + '_opt' + str(no_of_options) + '_runs' + str(no_of_runs) + '.csv', index_col=0)\n",
    "df['rank'] = df.groupby('Runs')['Strike'].rank(method='max')\n",
    "df2 = pd.read_csv('Stability Analysis - Outputs/Dataframes Optimized/df_nn_hedge_params_' + file_ident2 + '_sim' + str(no_of_paths_test) + '_opt' + str(no_of_options) + '_runs' + str(no_of_runs) + '.csv', index_col=0)\n",
    "df2['rank'] = df2.groupby('Runs')['Strike'].rank(method='max')\n",
    "strikes_str_list = [\"Strike \" + str(i) for i in range(1, no_of_options + 1)]\n",
    "# x_axis_range = [[int(np.amin(np.array(df[df['rank']==i]['Strike']))), int(np.amax(np.array(df[df['rank']==i]['Strike'])))] for i in range(1,no_of_options+1)]\n",
    "x_axis_range = [[68,69], [83,86], [93,96], [104,107], [119,121]]\n",
    "fig = make_subplots(rows=5, cols=2, subplot_titles=[\"Strikes - Random Seed\", \"Strikes - Fixed Seed\", \"\", \"\", \"\", \"\", \"\", \"\", \"\", \"\"])\n",
    "x_bins_list = [dict(start=68,end=69,size=0.2), dict(start=83,end=86,size=0.25), \n",
    "               dict(start=93,end=96,size=0.25), dict(start=104,end=107,size=0.25), dict(start=119,end=121,size=0.25)]\n",
    "\n",
    "Mean_list_random_seed = [round(np.mean(np.array(df[df['rank']==i]['Strike'])),2) for i in range(1, no_of_options+1)]\n",
    "Mean_list_fixed_seed = [round(np.mean(np.array(df2[df2['rank']==i]['Strike'])),2) for i in range(1, no_of_options+1)]\n",
    "StdDev_list_random_seed = [round(np.std(np.array(df[df['rank']==i]['Strike'])),2) for i in range(1, no_of_options+1)]\n",
    "StdDev_list_fixed_seed = [round(np.std(np.array(df2[df2['rank']==i]['Strike'])),2) for i in range(1, no_of_options+1)]\n",
    "\n",
    "fig.update_layout(height=1000, width=1000,\n",
    "                title=dict(text = \"Histogram of Neural Network Normal Initiated Strikes\", y=0.96, x=0.5, xanchor='center', yanchor='top'), font=dict(color=\"black\", size=18), \n",
    "                      showlegend=False)\n",
    "    \n",
    "for i in range(1, no_of_options+1, 1):\n",
    "    fig.add_trace(go.Histogram(x=df[df['rank']==i]['Strike'], name= \"Strike \" + str(int(i)), \n",
    "                              xbins=x_bins_list[i-1]), row=i, col=1)\n",
    "\n",
    "for i in range(1, no_of_options+1, 1):\n",
    "    fig.add_trace(go.Histogram(x=df2[df2['rank']==i]['Strike'], name= \"Strike \" + str(int(i)), \n",
    "                              xbins=x_bins_list[i-1]), row=i, col=2)\n",
    "\n",
    "\n",
    "for i in range(1, no_of_options+1):\n",
    "        fig.update_yaxes(title_text=strikes_str_list[i-1], showgrid=True, row=i, col=1)\n",
    "\n",
    "fig.update_xaxes(tickangle=30, showgrid=False)\n",
    "fig.update_yaxes(showgrid=False)\n",
    "\n",
    "for i in range(1, no_of_options+1):\n",
    "    fig.update_xaxes(range=x_axis_range[i-1], row=i, col=1)\n",
    "    fig.update_xaxes(range=x_axis_range[i-1], row=i, col=2)\n",
    "\n",
    "fig.update_layout(barmode='overlay')\n",
    "fig.update_layout(\n",
    "    bargap=0.05, # gap between bars of adjacent location coordinates\n",
    "    bargroupgap=0 # gap between bars of the same location coordinates\n",
    ")\n",
    "\n",
    "fig.layout.annotations[0].update(x=0.25, y=1, font={'size':19})\n",
    "fig.layout.annotations[1].update(x=0.75, y=1, font={'size':19})\n",
    "\n",
    "\n",
    "y_location = [0.999, 0.78, 0.56, 0.34, 0.12]\n",
    "\n",
    "annotations = []\n",
    "annotations_extend=[dict(x=0.01, y=y_location[i], xref=\"paper\", yref=\"paper\", \n",
    "                  text=\"Mean: \" + str(Mean_list_random_seed[i]) + \"<br> Std Dev: \" + str(StdDev_list_random_seed[i]), \n",
    "                  showarrow=False, xanchor=\"left\", yanchor=\"top\",  font=dict(color=\"black\", size=12)) \n",
    "                   for i in range(0, no_of_options)] + [dict(x=0.56, y=y_location[i], xref=\"paper\", yref=\"paper\", \n",
    "                  text=\"Mean: \" + str(Mean_list_fixed_seed[i]) + \"<br> Std Dev: \" + str(StdDev_list_fixed_seed[i]), \n",
    "                  showarrow=False, xanchor=\"left\", yanchor=\"top\",  font=dict(color=\"black\", size=12)) \n",
    "                   for i in range(0, no_of_options)]\n",
    "                \n",
    "annotations = [annotation for annotation in fig[\"layout\"][\"annotations\"]]\n",
    "annotations = annotations + annotations_extend\n",
    "fig[\"layout\"][\"annotations\"] += tuple(annotations)\n",
    "\n",
    "fig.show()\n",
    "\n",
    "file_ident = \"hist_strikes_same_axes\"\n",
    "plot_name = 'fig_' + file_ident + '_sim' + str(no_of_paths_test) + '_opt' + str(no_of_options) + '_runs' + str(no_of_runs)\n",
    "fig.write_image(\"Stability Analysis - Outputs/Final Plots/\" + plot_name + \".png\")\n",
    "\n"
   ]
  },
  {
   "cell_type": "code",
   "execution_count": 54,
   "metadata": {},
   "outputs": [
    {
     "data": {
      "text/plain": [
       "[1.174481176421648,\n",
       " 0.9238793099104897,\n",
       " 1.0319039096057099,\n",
       " 0.975062962452259,\n",
       " 1.1462107937044974]"
      ]
     },
     "execution_count": 54,
     "metadata": {},
     "output_type": "execute_result"
    }
   ],
   "source": [
    "[1.174481176421648, 0.9238793099104897, 1.0319039096057099, 0.975062962452259, 1.1462107937044974]"
   ]
  },
  {
   "cell_type": "code",
   "execution_count": null,
   "metadata": {},
   "outputs": [],
   "source": []
  },
  {
   "cell_type": "code",
   "execution_count": null,
   "metadata": {},
   "outputs": [],
   "source": []
  }
 ],
 "metadata": {
  "kernelspec": {
   "display_name": "Python 3",
   "language": "python",
   "name": "python3"
  },
  "language_info": {
   "codemirror_mode": {
    "name": "ipython",
    "version": 3
   },
   "file_extension": ".py",
   "mimetype": "text/x-python",
   "name": "python",
   "nbconvert_exporter": "python",
   "pygments_lexer": "ipython3",
   "version": "3.6.7"
  }
 },
 "nbformat": 4,
 "nbformat_minor": 2
}
